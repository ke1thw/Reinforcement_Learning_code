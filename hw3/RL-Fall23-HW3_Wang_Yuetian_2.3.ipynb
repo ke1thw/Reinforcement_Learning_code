{
  "cells": [
    {
      "cell_type": "code",
      "execution_count": 1,
      "id": "22518486-3c2f-47fe-92b3-1502875eacfe",
      "metadata": {
        "id": "22518486-3c2f-47fe-92b3-1502875eacfe"
      },
      "outputs": [],
      "source": [
        "import gym\n",
        "import os\n",
        "import random\n",
        "import torch\n",
        "import torch.nn as nn\n",
        "import torch.nn.functional as F\n",
        "import torch.optim as optim\n",
        "import matplotlib.pyplot as plt\n",
        "import cv2\n",
        "\n",
        "import numpy as np\n",
        "from collections import deque, namedtuple\n",
        "import copy\n",
        "\n",
        "# For visualization\n",
        "from gym.wrappers.monitoring import video_recorder\n",
        "from IPython.display import HTML\n",
        "from IPython import display\n",
        "import glob\n",
        "\n",
        "import warnings\n",
        "warnings.filterwarnings(\"ignore\")"
      ]
    },
    {
      "cell_type": "markdown",
      "id": "f75f934c-6921-43aa-8389-6df4b993eca4",
      "metadata": {
        "id": "f75f934c-6921-43aa-8389-6df4b993eca4"
      },
      "source": [
        "### Environment - BipedalWalker-v3\n",
        "\n",
        "Please check the [documentation](https://www.gymlibrary.dev/environments/box2d/BipedalWalker/) for details."
      ]
    },
    {
      "cell_type": "code",
      "execution_count": 2,
      "id": "594828b6-da33-481d-ab42-041e8c17ffea",
      "metadata": {
        "colab": {
          "base_uri": "https://localhost:8080/"
        },
        "id": "594828b6-da33-481d-ab42-041e8c17ffea",
        "outputId": "656d3ec0-1ee2-4877-ce11-97c3a6ab83bb"
      },
      "outputs": [
        {
          "name": "stdout",
          "output_type": "stream",
          "text": [
            "State shape:  Box([-3.1415927 -5.        -5.        -5.        -3.1415927 -5.\n",
            " -3.1415927 -5.        -0.        -3.1415927 -5.        -3.1415927\n",
            " -5.        -0.        -1.        -1.        -1.        -1.\n",
            " -1.        -1.        -1.        -1.        -1.        -1.       ], [3.1415927 5.        5.        5.        3.1415927 5.        3.1415927\n",
            " 5.        5.        3.1415927 5.        3.1415927 5.        5.\n",
            " 1.        1.        1.        1.        1.        1.        1.\n",
            " 1.        1.        1.       ], (24,), float32)\n",
            "Number of actions:  Box(-1.0, 1.0, (4,), float32)\n",
            "State size:  24\n",
            "Action size:  4\n",
            "Action list:  [[-1, -1, -1, -1], [-1, -1, -1, -0.5], [-1, -1, -1, 0], [-1, -1, -1, 0.5], [-1, -1, -1, 1], [-1, -1, -0.5, -1], [-1, -1, -0.5, -0.5], [-1, -1, -0.5, 0], [-1, -1, -0.5, 0.5], [-1, -1, -0.5, 1], [-1, -1, 0, -1], [-1, -1, 0, -0.5], [-1, -1, 0, 0], [-1, -1, 0, 0.5], [-1, -1, 0, 1], [-1, -1, 0.5, -1], [-1, -1, 0.5, -0.5], [-1, -1, 0.5, 0], [-1, -1, 0.5, 0.5], [-1, -1, 0.5, 1], [-1, -1, 1, -1], [-1, -1, 1, -0.5], [-1, -1, 1, 0], [-1, -1, 1, 0.5], [-1, -1, 1, 1], [-1, -0.5, -1, -1], [-1, -0.5, -1, -0.5], [-1, -0.5, -1, 0], [-1, -0.5, -1, 0.5], [-1, -0.5, -1, 1], [-1, -0.5, -0.5, -1], [-1, -0.5, -0.5, -0.5], [-1, -0.5, -0.5, 0], [-1, -0.5, -0.5, 0.5], [-1, -0.5, -0.5, 1], [-1, -0.5, 0, -1], [-1, -0.5, 0, -0.5], [-1, -0.5, 0, 0], [-1, -0.5, 0, 0.5], [-1, -0.5, 0, 1], [-1, -0.5, 0.5, -1], [-1, -0.5, 0.5, -0.5], [-1, -0.5, 0.5, 0], [-1, -0.5, 0.5, 0.5], [-1, -0.5, 0.5, 1], [-1, -0.5, 1, -1], [-1, -0.5, 1, -0.5], [-1, -0.5, 1, 0], [-1, -0.5, 1, 0.5], [-1, -0.5, 1, 1], [-1, 0, -1, -1], [-1, 0, -1, -0.5], [-1, 0, -1, 0], [-1, 0, -1, 0.5], [-1, 0, -1, 1], [-1, 0, -0.5, -1], [-1, 0, -0.5, -0.5], [-1, 0, -0.5, 0], [-1, 0, -0.5, 0.5], [-1, 0, -0.5, 1], [-1, 0, 0, -1], [-1, 0, 0, -0.5], [-1, 0, 0, 0], [-1, 0, 0, 0.5], [-1, 0, 0, 1], [-1, 0, 0.5, -1], [-1, 0, 0.5, -0.5], [-1, 0, 0.5, 0], [-1, 0, 0.5, 0.5], [-1, 0, 0.5, 1], [-1, 0, 1, -1], [-1, 0, 1, -0.5], [-1, 0, 1, 0], [-1, 0, 1, 0.5], [-1, 0, 1, 1], [-1, 0.5, -1, -1], [-1, 0.5, -1, -0.5], [-1, 0.5, -1, 0], [-1, 0.5, -1, 0.5], [-1, 0.5, -1, 1], [-1, 0.5, -0.5, -1], [-1, 0.5, -0.5, -0.5], [-1, 0.5, -0.5, 0], [-1, 0.5, -0.5, 0.5], [-1, 0.5, -0.5, 1], [-1, 0.5, 0, -1], [-1, 0.5, 0, -0.5], [-1, 0.5, 0, 0], [-1, 0.5, 0, 0.5], [-1, 0.5, 0, 1], [-1, 0.5, 0.5, -1], [-1, 0.5, 0.5, -0.5], [-1, 0.5, 0.5, 0], [-1, 0.5, 0.5, 0.5], [-1, 0.5, 0.5, 1], [-1, 0.5, 1, -1], [-1, 0.5, 1, -0.5], [-1, 0.5, 1, 0], [-1, 0.5, 1, 0.5], [-1, 0.5, 1, 1], [-1, 1, -1, -1], [-1, 1, -1, -0.5], [-1, 1, -1, 0], [-1, 1, -1, 0.5], [-1, 1, -1, 1], [-1, 1, -0.5, -1], [-1, 1, -0.5, -0.5], [-1, 1, -0.5, 0], [-1, 1, -0.5, 0.5], [-1, 1, -0.5, 1], [-1, 1, 0, -1], [-1, 1, 0, -0.5], [-1, 1, 0, 0], [-1, 1, 0, 0.5], [-1, 1, 0, 1], [-1, 1, 0.5, -1], [-1, 1, 0.5, -0.5], [-1, 1, 0.5, 0], [-1, 1, 0.5, 0.5], [-1, 1, 0.5, 1], [-1, 1, 1, -1], [-1, 1, 1, -0.5], [-1, 1, 1, 0], [-1, 1, 1, 0.5], [-1, 1, 1, 1], [-0.5, -1, -1, -1], [-0.5, -1, -1, -0.5], [-0.5, -1, -1, 0], [-0.5, -1, -1, 0.5], [-0.5, -1, -1, 1], [-0.5, -1, -0.5, -1], [-0.5, -1, -0.5, -0.5], [-0.5, -1, -0.5, 0], [-0.5, -1, -0.5, 0.5], [-0.5, -1, -0.5, 1], [-0.5, -1, 0, -1], [-0.5, -1, 0, -0.5], [-0.5, -1, 0, 0], [-0.5, -1, 0, 0.5], [-0.5, -1, 0, 1], [-0.5, -1, 0.5, -1], [-0.5, -1, 0.5, -0.5], [-0.5, -1, 0.5, 0], [-0.5, -1, 0.5, 0.5], [-0.5, -1, 0.5, 1], [-0.5, -1, 1, -1], [-0.5, -1, 1, -0.5], [-0.5, -1, 1, 0], [-0.5, -1, 1, 0.5], [-0.5, -1, 1, 1], [-0.5, -0.5, -1, -1], [-0.5, -0.5, -1, -0.5], [-0.5, -0.5, -1, 0], [-0.5, -0.5, -1, 0.5], [-0.5, -0.5, -1, 1], [-0.5, -0.5, -0.5, -1], [-0.5, -0.5, -0.5, -0.5], [-0.5, -0.5, -0.5, 0], [-0.5, -0.5, -0.5, 0.5], [-0.5, -0.5, -0.5, 1], [-0.5, -0.5, 0, -1], [-0.5, -0.5, 0, -0.5], [-0.5, -0.5, 0, 0], [-0.5, -0.5, 0, 0.5], [-0.5, -0.5, 0, 1], [-0.5, -0.5, 0.5, -1], [-0.5, -0.5, 0.5, -0.5], [-0.5, -0.5, 0.5, 0], [-0.5, -0.5, 0.5, 0.5], [-0.5, -0.5, 0.5, 1], [-0.5, -0.5, 1, -1], [-0.5, -0.5, 1, -0.5], [-0.5, -0.5, 1, 0], [-0.5, -0.5, 1, 0.5], [-0.5, -0.5, 1, 1], [-0.5, 0, -1, -1], [-0.5, 0, -1, -0.5], [-0.5, 0, -1, 0], [-0.5, 0, -1, 0.5], [-0.5, 0, -1, 1], [-0.5, 0, -0.5, -1], [-0.5, 0, -0.5, -0.5], [-0.5, 0, -0.5, 0], [-0.5, 0, -0.5, 0.5], [-0.5, 0, -0.5, 1], [-0.5, 0, 0, -1], [-0.5, 0, 0, -0.5], [-0.5, 0, 0, 0], [-0.5, 0, 0, 0.5], [-0.5, 0, 0, 1], [-0.5, 0, 0.5, -1], [-0.5, 0, 0.5, -0.5], [-0.5, 0, 0.5, 0], [-0.5, 0, 0.5, 0.5], [-0.5, 0, 0.5, 1], [-0.5, 0, 1, -1], [-0.5, 0, 1, -0.5], [-0.5, 0, 1, 0], [-0.5, 0, 1, 0.5], [-0.5, 0, 1, 1], [-0.5, 0.5, -1, -1], [-0.5, 0.5, -1, -0.5], [-0.5, 0.5, -1, 0], [-0.5, 0.5, -1, 0.5], [-0.5, 0.5, -1, 1], [-0.5, 0.5, -0.5, -1], [-0.5, 0.5, -0.5, -0.5], [-0.5, 0.5, -0.5, 0], [-0.5, 0.5, -0.5, 0.5], [-0.5, 0.5, -0.5, 1], [-0.5, 0.5, 0, -1], [-0.5, 0.5, 0, -0.5], [-0.5, 0.5, 0, 0], [-0.5, 0.5, 0, 0.5], [-0.5, 0.5, 0, 1], [-0.5, 0.5, 0.5, -1], [-0.5, 0.5, 0.5, -0.5], [-0.5, 0.5, 0.5, 0], [-0.5, 0.5, 0.5, 0.5], [-0.5, 0.5, 0.5, 1], [-0.5, 0.5, 1, -1], [-0.5, 0.5, 1, -0.5], [-0.5, 0.5, 1, 0], [-0.5, 0.5, 1, 0.5], [-0.5, 0.5, 1, 1], [-0.5, 1, -1, -1], [-0.5, 1, -1, -0.5], [-0.5, 1, -1, 0], [-0.5, 1, -1, 0.5], [-0.5, 1, -1, 1], [-0.5, 1, -0.5, -1], [-0.5, 1, -0.5, -0.5], [-0.5, 1, -0.5, 0], [-0.5, 1, -0.5, 0.5], [-0.5, 1, -0.5, 1], [-0.5, 1, 0, -1], [-0.5, 1, 0, -0.5], [-0.5, 1, 0, 0], [-0.5, 1, 0, 0.5], [-0.5, 1, 0, 1], [-0.5, 1, 0.5, -1], [-0.5, 1, 0.5, -0.5], [-0.5, 1, 0.5, 0], [-0.5, 1, 0.5, 0.5], [-0.5, 1, 0.5, 1], [-0.5, 1, 1, -1], [-0.5, 1, 1, -0.5], [-0.5, 1, 1, 0], [-0.5, 1, 1, 0.5], [-0.5, 1, 1, 1], [0, -1, -1, -1], [0, -1, -1, -0.5], [0, -1, -1, 0], [0, -1, -1, 0.5], [0, -1, -1, 1], [0, -1, -0.5, -1], [0, -1, -0.5, -0.5], [0, -1, -0.5, 0], [0, -1, -0.5, 0.5], [0, -1, -0.5, 1], [0, -1, 0, -1], [0, -1, 0, -0.5], [0, -1, 0, 0], [0, -1, 0, 0.5], [0, -1, 0, 1], [0, -1, 0.5, -1], [0, -1, 0.5, -0.5], [0, -1, 0.5, 0], [0, -1, 0.5, 0.5], [0, -1, 0.5, 1], [0, -1, 1, -1], [0, -1, 1, -0.5], [0, -1, 1, 0], [0, -1, 1, 0.5], [0, -1, 1, 1], [0, -0.5, -1, -1], [0, -0.5, -1, -0.5], [0, -0.5, -1, 0], [0, -0.5, -1, 0.5], [0, -0.5, -1, 1], [0, -0.5, -0.5, -1], [0, -0.5, -0.5, -0.5], [0, -0.5, -0.5, 0], [0, -0.5, -0.5, 0.5], [0, -0.5, -0.5, 1], [0, -0.5, 0, -1], [0, -0.5, 0, -0.5], [0, -0.5, 0, 0], [0, -0.5, 0, 0.5], [0, -0.5, 0, 1], [0, -0.5, 0.5, -1], [0, -0.5, 0.5, -0.5], [0, -0.5, 0.5, 0], [0, -0.5, 0.5, 0.5], [0, -0.5, 0.5, 1], [0, -0.5, 1, -1], [0, -0.5, 1, -0.5], [0, -0.5, 1, 0], [0, -0.5, 1, 0.5], [0, -0.5, 1, 1], [0, 0, -1, -1], [0, 0, -1, -0.5], [0, 0, -1, 0], [0, 0, -1, 0.5], [0, 0, -1, 1], [0, 0, -0.5, -1], [0, 0, -0.5, -0.5], [0, 0, -0.5, 0], [0, 0, -0.5, 0.5], [0, 0, -0.5, 1], [0, 0, 0, -1], [0, 0, 0, -0.5], [0, 0, 0, 0], [0, 0, 0, 0.5], [0, 0, 0, 1], [0, 0, 0.5, -1], [0, 0, 0.5, -0.5], [0, 0, 0.5, 0], [0, 0, 0.5, 0.5], [0, 0, 0.5, 1], [0, 0, 1, -1], [0, 0, 1, -0.5], [0, 0, 1, 0], [0, 0, 1, 0.5], [0, 0, 1, 1], [0, 0.5, -1, -1], [0, 0.5, -1, -0.5], [0, 0.5, -1, 0], [0, 0.5, -1, 0.5], [0, 0.5, -1, 1], [0, 0.5, -0.5, -1], [0, 0.5, -0.5, -0.5], [0, 0.5, -0.5, 0], [0, 0.5, -0.5, 0.5], [0, 0.5, -0.5, 1], [0, 0.5, 0, -1], [0, 0.5, 0, -0.5], [0, 0.5, 0, 0], [0, 0.5, 0, 0.5], [0, 0.5, 0, 1], [0, 0.5, 0.5, -1], [0, 0.5, 0.5, -0.5], [0, 0.5, 0.5, 0], [0, 0.5, 0.5, 0.5], [0, 0.5, 0.5, 1], [0, 0.5, 1, -1], [0, 0.5, 1, -0.5], [0, 0.5, 1, 0], [0, 0.5, 1, 0.5], [0, 0.5, 1, 1], [0, 1, -1, -1], [0, 1, -1, -0.5], [0, 1, -1, 0], [0, 1, -1, 0.5], [0, 1, -1, 1], [0, 1, -0.5, -1], [0, 1, -0.5, -0.5], [0, 1, -0.5, 0], [0, 1, -0.5, 0.5], [0, 1, -0.5, 1], [0, 1, 0, -1], [0, 1, 0, -0.5], [0, 1, 0, 0], [0, 1, 0, 0.5], [0, 1, 0, 1], [0, 1, 0.5, -1], [0, 1, 0.5, -0.5], [0, 1, 0.5, 0], [0, 1, 0.5, 0.5], [0, 1, 0.5, 1], [0, 1, 1, -1], [0, 1, 1, -0.5], [0, 1, 1, 0], [0, 1, 1, 0.5], [0, 1, 1, 1], [0.5, -1, -1, -1], [0.5, -1, -1, -0.5], [0.5, -1, -1, 0], [0.5, -1, -1, 0.5], [0.5, -1, -1, 1], [0.5, -1, -0.5, -1], [0.5, -1, -0.5, -0.5], [0.5, -1, -0.5, 0], [0.5, -1, -0.5, 0.5], [0.5, -1, -0.5, 1], [0.5, -1, 0, -1], [0.5, -1, 0, -0.5], [0.5, -1, 0, 0], [0.5, -1, 0, 0.5], [0.5, -1, 0, 1], [0.5, -1, 0.5, -1], [0.5, -1, 0.5, -0.5], [0.5, -1, 0.5, 0], [0.5, -1, 0.5, 0.5], [0.5, -1, 0.5, 1], [0.5, -1, 1, -1], [0.5, -1, 1, -0.5], [0.5, -1, 1, 0], [0.5, -1, 1, 0.5], [0.5, -1, 1, 1], [0.5, -0.5, -1, -1], [0.5, -0.5, -1, -0.5], [0.5, -0.5, -1, 0], [0.5, -0.5, -1, 0.5], [0.5, -0.5, -1, 1], [0.5, -0.5, -0.5, -1], [0.5, -0.5, -0.5, -0.5], [0.5, -0.5, -0.5, 0], [0.5, -0.5, -0.5, 0.5], [0.5, -0.5, -0.5, 1], [0.5, -0.5, 0, -1], [0.5, -0.5, 0, -0.5], [0.5, -0.5, 0, 0], [0.5, -0.5, 0, 0.5], [0.5, -0.5, 0, 1], [0.5, -0.5, 0.5, -1], [0.5, -0.5, 0.5, -0.5], [0.5, -0.5, 0.5, 0], [0.5, -0.5, 0.5, 0.5], [0.5, -0.5, 0.5, 1], [0.5, -0.5, 1, -1], [0.5, -0.5, 1, -0.5], [0.5, -0.5, 1, 0], [0.5, -0.5, 1, 0.5], [0.5, -0.5, 1, 1], [0.5, 0, -1, -1], [0.5, 0, -1, -0.5], [0.5, 0, -1, 0], [0.5, 0, -1, 0.5], [0.5, 0, -1, 1], [0.5, 0, -0.5, -1], [0.5, 0, -0.5, -0.5], [0.5, 0, -0.5, 0], [0.5, 0, -0.5, 0.5], [0.5, 0, -0.5, 1], [0.5, 0, 0, -1], [0.5, 0, 0, -0.5], [0.5, 0, 0, 0], [0.5, 0, 0, 0.5], [0.5, 0, 0, 1], [0.5, 0, 0.5, -1], [0.5, 0, 0.5, -0.5], [0.5, 0, 0.5, 0], [0.5, 0, 0.5, 0.5], [0.5, 0, 0.5, 1], [0.5, 0, 1, -1], [0.5, 0, 1, -0.5], [0.5, 0, 1, 0], [0.5, 0, 1, 0.5], [0.5, 0, 1, 1], [0.5, 0.5, -1, -1], [0.5, 0.5, -1, -0.5], [0.5, 0.5, -1, 0], [0.5, 0.5, -1, 0.5], [0.5, 0.5, -1, 1], [0.5, 0.5, -0.5, -1], [0.5, 0.5, -0.5, -0.5], [0.5, 0.5, -0.5, 0], [0.5, 0.5, -0.5, 0.5], [0.5, 0.5, -0.5, 1], [0.5, 0.5, 0, -1], [0.5, 0.5, 0, -0.5], [0.5, 0.5, 0, 0], [0.5, 0.5, 0, 0.5], [0.5, 0.5, 0, 1], [0.5, 0.5, 0.5, -1], [0.5, 0.5, 0.5, -0.5], [0.5, 0.5, 0.5, 0], [0.5, 0.5, 0.5, 0.5], [0.5, 0.5, 0.5, 1], [0.5, 0.5, 1, -1], [0.5, 0.5, 1, -0.5], [0.5, 0.5, 1, 0], [0.5, 0.5, 1, 0.5], [0.5, 0.5, 1, 1], [0.5, 1, -1, -1], [0.5, 1, -1, -0.5], [0.5, 1, -1, 0], [0.5, 1, -1, 0.5], [0.5, 1, -1, 1], [0.5, 1, -0.5, -1], [0.5, 1, -0.5, -0.5], [0.5, 1, -0.5, 0], [0.5, 1, -0.5, 0.5], [0.5, 1, -0.5, 1], [0.5, 1, 0, -1], [0.5, 1, 0, -0.5], [0.5, 1, 0, 0], [0.5, 1, 0, 0.5], [0.5, 1, 0, 1], [0.5, 1, 0.5, -1], [0.5, 1, 0.5, -0.5], [0.5, 1, 0.5, 0], [0.5, 1, 0.5, 0.5], [0.5, 1, 0.5, 1], [0.5, 1, 1, -1], [0.5, 1, 1, -0.5], [0.5, 1, 1, 0], [0.5, 1, 1, 0.5], [0.5, 1, 1, 1], [1, -1, -1, -1], [1, -1, -1, -0.5], [1, -1, -1, 0], [1, -1, -1, 0.5], [1, -1, -1, 1], [1, -1, -0.5, -1], [1, -1, -0.5, -0.5], [1, -1, -0.5, 0], [1, -1, -0.5, 0.5], [1, -1, -0.5, 1], [1, -1, 0, -1], [1, -1, 0, -0.5], [1, -1, 0, 0], [1, -1, 0, 0.5], [1, -1, 0, 1], [1, -1, 0.5, -1], [1, -1, 0.5, -0.5], [1, -1, 0.5, 0], [1, -1, 0.5, 0.5], [1, -1, 0.5, 1], [1, -1, 1, -1], [1, -1, 1, -0.5], [1, -1, 1, 0], [1, -1, 1, 0.5], [1, -1, 1, 1], [1, -0.5, -1, -1], [1, -0.5, -1, -0.5], [1, -0.5, -1, 0], [1, -0.5, -1, 0.5], [1, -0.5, -1, 1], [1, -0.5, -0.5, -1], [1, -0.5, -0.5, -0.5], [1, -0.5, -0.5, 0], [1, -0.5, -0.5, 0.5], [1, -0.5, -0.5, 1], [1, -0.5, 0, -1], [1, -0.5, 0, -0.5], [1, -0.5, 0, 0], [1, -0.5, 0, 0.5], [1, -0.5, 0, 1], [1, -0.5, 0.5, -1], [1, -0.5, 0.5, -0.5], [1, -0.5, 0.5, 0], [1, -0.5, 0.5, 0.5], [1, -0.5, 0.5, 1], [1, -0.5, 1, -1], [1, -0.5, 1, -0.5], [1, -0.5, 1, 0], [1, -0.5, 1, 0.5], [1, -0.5, 1, 1], [1, 0, -1, -1], [1, 0, -1, -0.5], [1, 0, -1, 0], [1, 0, -1, 0.5], [1, 0, -1, 1], [1, 0, -0.5, -1], [1, 0, -0.5, -0.5], [1, 0, -0.5, 0], [1, 0, -0.5, 0.5], [1, 0, -0.5, 1], [1, 0, 0, -1], [1, 0, 0, -0.5], [1, 0, 0, 0], [1, 0, 0, 0.5], [1, 0, 0, 1], [1, 0, 0.5, -1], [1, 0, 0.5, -0.5], [1, 0, 0.5, 0], [1, 0, 0.5, 0.5], [1, 0, 0.5, 1], [1, 0, 1, -1], [1, 0, 1, -0.5], [1, 0, 1, 0], [1, 0, 1, 0.5], [1, 0, 1, 1], [1, 0.5, -1, -1], [1, 0.5, -1, -0.5], [1, 0.5, -1, 0], [1, 0.5, -1, 0.5], [1, 0.5, -1, 1], [1, 0.5, -0.5, -1], [1, 0.5, -0.5, -0.5], [1, 0.5, -0.5, 0], [1, 0.5, -0.5, 0.5], [1, 0.5, -0.5, 1], [1, 0.5, 0, -1], [1, 0.5, 0, -0.5], [1, 0.5, 0, 0], [1, 0.5, 0, 0.5], [1, 0.5, 0, 1], [1, 0.5, 0.5, -1], [1, 0.5, 0.5, -0.5], [1, 0.5, 0.5, 0], [1, 0.5, 0.5, 0.5], [1, 0.5, 0.5, 1], [1, 0.5, 1, -1], [1, 0.5, 1, -0.5], [1, 0.5, 1, 0], [1, 0.5, 1, 0.5], [1, 0.5, 1, 1], [1, 1, -1, -1], [1, 1, -1, -0.5], [1, 1, -1, 0], [1, 1, -1, 0.5], [1, 1, -1, 1], [1, 1, -0.5, -1], [1, 1, -0.5, -0.5], [1, 1, -0.5, 0], [1, 1, -0.5, 0.5], [1, 1, -0.5, 1], [1, 1, 0, -1], [1, 1, 0, -0.5], [1, 1, 0, 0], [1, 1, 0, 0.5], [1, 1, 0, 1], [1, 1, 0.5, -1], [1, 1, 0.5, -0.5], [1, 1, 0.5, 0], [1, 1, 0.5, 0.5], [1, 1, 0.5, 1], [1, 1, 1, -1], [1, 1, 1, -0.5], [1, 1, 1, 0], [1, 1, 1, 0.5], [1, 1, 1, 1]]\n"
          ]
        }
      ],
      "source": [
        "env = gym.make('BipedalWalker-v3')\n",
        "env.seed(0)\n",
        "print('State shape: ', env.observation_space)\n",
        "print('Number of actions: ', env.action_space)\n",
        "state_size = env.observation_space.shape[0]\n",
        "action_size = env.action_space.shape[0]\n",
        "print('State size: ', state_size)\n",
        "print('Action size: ', action_size)\n",
        "action_range = [-1, -0.5, 0, 0.5, 1]\n",
        "action_list = [[i, j, k, l] for i in action_range for j in action_range for k in action_range for l in action_range]\n",
        "print('Action list: ', action_list)\n"
      ]
    },
    {
      "cell_type": "code",
      "execution_count": 3,
      "id": "ae834607-433e-4ed5-8b23-8de7b53230a8",
      "metadata": {
        "id": "ae834607-433e-4ed5-8b23-8de7b53230a8"
      },
      "outputs": [],
      "source": [
        "# Define MLP policy\n",
        "\n",
        "class QNetwork(nn.Module):\n",
        "    \"\"\"Actor (Policy) Model.\"\"\"\n",
        "\n",
        "    def __init__(self, state_size, action_size, seed):\n",
        "        \"\"\"Initialize parameters and build model.\n",
        "\n",
        "        Args:\n",
        "            state_size (int): Dimension of each state\n",
        "            action_size (int): Dimension of each action\n",
        "            seed (int): Random seed\n",
        "        \"\"\"\n",
        "        super(QNetwork, self).__init__()\n",
        "        # XXX NOTE: Commenting this line to avoid conflict with deepcopy\n",
        "        # self.seed = torch.manual_seed(seed)\n",
        "\n",
        "        self.fc1 = nn.Linear(state_size, 64)\n",
        "        self.fc2 = nn.Linear(64, 256)\n",
        "        self.fc3 = nn.Linear(256, 1024)\n",
        "        self.fc4 = nn.Linear(1024, 1024)\n",
        "        self.fc5 = nn.Linear(1024, action_size)\n",
        "        self.bn1 = nn.BatchNorm1d(1024)\n",
        "        self.bn2 = nn.BatchNorm1d(1024)\n",
        "\n",
        "    def forward(self, state):\n",
        "        \"\"\"Build a network that maps state -> action values.\"\"\"\n",
        "        x = self.fc1(state)\n",
        "        x = F.relu(x)\n",
        "        x = self.fc2(x)\n",
        "        x = F.relu(x)\n",
        "        x = self.fc3(x)\n",
        "        x = F.relu(x)\n",
        "        x = self.bn1(x)\n",
        "        x = self.fc4(x)\n",
        "        x = F.relu(x)\n",
        "        x = self.bn2(x)\n",
        "        x = self.fc5(x)\n",
        "        return x"
      ]
    },
    {
      "cell_type": "markdown",
      "id": "b0873298-cab0-4dcb-9c84-4782dc914dd7",
      "metadata": {
        "id": "b0873298-cab0-4dcb-9c84-4782dc914dd7"
      },
      "source": [
        "### Define some hyperparameter"
      ]
    },
    {
      "cell_type": "code",
      "execution_count": 20,
      "id": "7010c525-29d8-445c-8769-6cfb7d00948b",
      "metadata": {
        "id": "7010c525-29d8-445c-8769-6cfb7d00948b"
      },
      "outputs": [],
      "source": [
        "BUFFER_SIZE = int(1e6)  # replay buffer size\n",
        "BATCH_SIZE = 64         # minibatch size\n",
        "GAMMA = 0.99            # discount factor\n",
        "LR = 5e-4               # learning rate\n",
        "UPDATE_EVERY = 4        # how often to update the network\n",
        "CLONE_EVERY = int(1e4)  # how often to clone the q networks"
      ]
    },
    {
      "cell_type": "code",
      "execution_count": 5,
      "id": "334bb7d8-7d62-4cfb-96f7-f8809ba8e089",
      "metadata": {
        "id": "334bb7d8-7d62-4cfb-96f7-f8809ba8e089"
      },
      "outputs": [],
      "source": [
        "device = torch.device(\"mps\" if torch.cuda.is_available() else \"cpu\")"
      ]
    },
    {
      "cell_type": "markdown",
      "id": "1d861efe-200c-4690-9698-722abbf0b77c",
      "metadata": {
        "id": "1d861efe-200c-4690-9698-722abbf0b77c"
      },
      "source": [
        "### Define Agent"
      ]
    },
    {
      "cell_type": "code",
      "execution_count": 6,
      "id": "0530f456-2bfd-4061-ad62-f14846a9a284",
      "metadata": {
        "id": "0530f456-2bfd-4061-ad62-f14846a9a284"
      },
      "outputs": [],
      "source": [
        "class Agent():\n",
        "    \"\"\"Interacts with and learns from the environment.\"\"\"\n",
        "\n",
        "    def __init__(self, state_size, action_size, seed, env):\n",
        "        \"\"\"Initialize an Agent object.\n",
        "\n",
        "        Args:\n",
        "            state_size (int): dimension of each state\n",
        "            action_size (int): dimension of each action\n",
        "            seed (int): random seed\n",
        "        \"\"\"\n",
        "        self.state_size = state_size\n",
        "        self.action_size = action_size\n",
        "        self.seed = random.seed(seed)\n",
        "        self.env = env\n",
        "\n",
        "        # Q-Network\n",
        "        self.qnetwork_local = QNetwork(state_size, action_size, seed).to(device)\n",
        "        self.qnetwork_target = QNetwork(state_size, action_size, seed).to(device)\n",
        "        self.optimizer = optim.Adam(self.qnetwork_local.parameters(), lr=LR)\n",
        "\n",
        "        # Replay memory\n",
        "        self.memory = ReplayBuffer(action_size, BUFFER_SIZE, BATCH_SIZE, seed)\n",
        "        # Initialize time step (for updating every UPDATE_EVERY steps)\n",
        "        self.t_step = 0\n",
        "\n",
        "    def clone(self):\n",
        "        try:\n",
        "            del self.qnetwork_target\n",
        "        except:\n",
        "            pass\n",
        "\n",
        "        self.qnetwork_target = copy.deepcopy(self.qnetwork_local)\n",
        "\n",
        "        for p in self.qnetwork_target.parameters():\n",
        "            p.requires_grad = False\n",
        "\n",
        "        self.qnetwork_target = self.qnetwork_target.to(device)\n",
        "\n",
        "    def step(self, state, action, reward, next_state, done):\n",
        "        # Save experience in replay memory\n",
        "        self.memory.add(state, action, reward, next_state, done)\n",
        "\n",
        "        # Learn every UPDATE_EVERY time steps.\n",
        "        self.t_step += 1\n",
        "\n",
        "        if self.t_step % UPDATE_EVERY == 0:\n",
        "            # If enough samples are available in memory, get random subset and learn\n",
        "            if len(self.memory) > BATCH_SIZE:\n",
        "                experiences = self.memory.sample()\n",
        "                self.learn(experiences, GAMMA)\n",
        "\n",
        "        if self.t_step % CLONE_EVERY == 0:\n",
        "            self.clone()\n",
        "\n",
        "\n",
        "    def act(self, state, eps=0.):\n",
        "        \"\"\"Returns actions for given state as per current policy.\n",
        "\n",
        "        Args:\n",
        "            state (array_like): current state\n",
        "            eps (float): epsilon, for epsilon-greedy action selection\n",
        "        \"\"\"\n",
        "        state = torch.from_numpy(state).float().unsqueeze(0).to(device)\n",
        "        self.qnetwork_local.eval()\n",
        "        with torch.no_grad():\n",
        "            action_values = self.qnetwork_local(state)\n",
        "        self.qnetwork_local.train()\n",
        "\n",
        "        # Epsilon-greedy action selection\n",
        "        if random.random() > eps:\n",
        "            return np.argmax(action_values.cpu().data.numpy())\n",
        "        else:\n",
        "            return random.choice(np.arange(self.action_size))\n",
        "            \n",
        "\n",
        "    def learn(self, experiences, gamma):\n",
        "        \"\"\"Update value parameters using given batch of experience tuples.\n",
        "\n",
        "        Args:\n",
        "            experiences (Tuple[torch.Variable]): tuple of (s, a, r, s', done) tuples\n",
        "            gamma (float): discount factor\n",
        "        \"\"\"\n",
        "        # Obtain random minibatch of tuples from D\n",
        "        states, actions, rewards, next_states, dones = experiences\n",
        "\n",
        "        ## Compute and minimize the loss\n",
        "        ### Extract next maximum estimated value from target network\n",
        "        q_targets_next = self.qnetwork_target(next_states).unsqueeze(1)\n",
        "        ### Calculate target value from bellman equation\n",
        "        q_targets = rewards + gamma * q_targets_next * (1 - dones)\n",
        "        ### Calculate expected value from local network\n",
        "        q_expected = self.qnetwork_local(states)\n",
        "\n",
        "        ### Loss calculation (we used Mean squared error)\n",
        "        loss = F.mse_loss(q_expected, q_targets)\n",
        "        self.optimizer.zero_grad()\n",
        "        loss.backward()\n",
        "        self.optimizer.step()"
      ]
    },
    {
      "cell_type": "markdown",
      "id": "4eb5db66-ecb3-4bf4-aee1-3e18003c17b0",
      "metadata": {
        "id": "4eb5db66-ecb3-4bf4-aee1-3e18003c17b0"
      },
      "source": [
        "### Define Replay Buffer"
      ]
    },
    {
      "cell_type": "code",
      "execution_count": 7,
      "id": "f74bb08e-0b95-42db-9fc8-d609514d55af",
      "metadata": {
        "id": "f74bb08e-0b95-42db-9fc8-d609514d55af"
      },
      "outputs": [],
      "source": [
        "class ReplayBuffer:\n",
        "    \"\"\"Fixed-size buffer to store experience tuples.\"\"\"\n",
        "\n",
        "    def __init__(self, action_size, buffer_size, batch_size, seed):\n",
        "        \"\"\"Initialize a ReplayBuffer object.\n",
        "\n",
        "        Args:\n",
        "            action_size (int): dimension of each action\n",
        "            buffer_size (int): maximum size of buffer\n",
        "            batch_size (int): size of each training batch\n",
        "            seed (int): random seed\n",
        "        \"\"\"\n",
        "        self.action_size = action_size\n",
        "        self.memory = deque(maxlen=buffer_size)\n",
        "        self.batch_size = batch_size\n",
        "        self.experience = namedtuple(\"Experience\", field_names=[\"state\", \"action\", \"reward\", \"next_state\", \"done\"])\n",
        "        self.seed = random.seed(seed)\n",
        "\n",
        "    def add(self, state, action, reward, next_state, done):\n",
        "        \"\"\"Add a new experience to memory.\"\"\"\n",
        "        e = self.experience(state, action, reward, next_state, done)\n",
        "        self.memory.append(e)\n",
        "\n",
        "    def sample(self):\n",
        "        \"\"\"Randomly sample a batch of experiences from memory.\"\"\"\n",
        "        experiences = random.sample(self.memory, k=self.batch_size)\n",
        "\n",
        "        states = torch.from_numpy(np.vstack([e.state for e in experiences if e is not None])).float().to(device)\n",
        "        actions = torch.from_numpy(np.vstack([e.action for e in experiences if e is not None])).long().to(device)\n",
        "        rewards = torch.from_numpy(np.vstack([e.reward for e in experiences if e is not None])).float().to(device)\n",
        "        next_states = torch.from_numpy(np.vstack([e.next_state for e in experiences if e is not None])).float().to(device)\n",
        "        dones = torch.from_numpy(np.vstack([e.done for e in experiences if e is not None]).astype(np.uint8)).float().to(device)\n",
        "\n",
        "        return (states, actions, rewards, next_states, dones)\n",
        "\n",
        "    def __len__(self):\n",
        "        \"\"\"Return the current size of internal memory.\"\"\"\n",
        "        return len(self.memory)"
      ]
    },
    {
      "cell_type": "markdown",
      "id": "6bd61b8d-b63e-444f-9cb7-6295df46995d",
      "metadata": {
        "id": "6bd61b8d-b63e-444f-9cb7-6295df46995d"
      },
      "source": [
        "### Training Process"
      ]
    },
    {
      "cell_type": "code",
      "execution_count": 8,
      "id": "c907ab57-ed48-4824-b27c-8c7d707d6919",
      "metadata": {
        "colab": {
          "base_uri": "https://localhost:8080/"
        },
        "id": "c907ab57-ed48-4824-b27c-8c7d707d6919",
        "outputId": "4f42eb1f-91e8-459c-f0a1-3e2001222fdc"
      },
      "outputs": [],
      "source": [
        "def dqn(n_episodes=2000, max_t=1600, eps_start=1.0, eps_end=0.01, eps_decay=0.995):\n",
        "    \"\"\"Deep Q-Learning.\n",
        "\n",
        "    Args:\n",
        "        n_episodes (int): maximum number of training episodes\n",
        "        max_t (int): maximum number of timesteps per episode\n",
        "        eps_start (float): starting value of epsilon, for epsilon-greedy action selection\n",
        "        eps_end (float): minimum value of epsilon\n",
        "        eps_decay (float): multiplicative factor (per episode) for decreasing epsilon\n",
        "    \"\"\"\n",
        "    scores = []                        # list containing scores from each episode\n",
        "    scores_window = deque(maxlen=100)  # last 100 scores\n",
        "    eps = eps_start                    # initialize epsilon\n",
        "    for i_episode in range(1, n_episodes+1):\n",
        "        state = env.reset()\n",
        "        score = 0\n",
        "        for t in range(max_t):\n",
        "            action = agent.act(state, eps)\n",
        "            action = action_list[action]\n",
        "            next_state, reward, done, _= env.step(action)\n",
        "            agent.step(state, action, reward, next_state, done)\n",
        "            state = next_state\n",
        "            score += reward\n",
        "            if done:\n",
        "                break\n",
        "        scores_window.append(score)       # save most recent score\n",
        "        scores.append(score)              # save most recent score\n",
        "        eps = max(eps_end, eps_decay*eps) # decrease epsilon\n",
        "        print('\\rEpisode {}\\tAverage Score: {:.2f}'.format(i_episode, np.mean(scores_window)), end=\"\")\n",
        "        if i_episode % 100 == 0:\n",
        "            print('\\rEpisode {}\\tAverage Score: {:.2f}'.format(i_episode, np.mean(scores_window)))\n",
        "        # if np.mean(scores_window)>=200.0:\n",
        "        #     print('\\nEnvironment solved in {:d} episodes!\\tAverage Score: {:.2f}'.format(i_episode-100, np.mean(scores_window)))\n",
        "            # torch.save(agent.qnetwork_local.state_dict(), 'checkpoint.pth')\n",
        "            # break\n",
        "    return scores"
      ]
    },
    {
      "cell_type": "code",
      "execution_count": 21,
      "metadata": {},
      "outputs": [
        {
          "name": "stdout",
          "output_type": "stream",
          "text": [
            "Action size:  625\n",
            "Episode 100\tAverage Score: -111.75\n",
            "Episode 200\tAverage Score: -108.73\n",
            "Episode 300\tAverage Score: -108.44\n",
            "Episode 400\tAverage Score: -113.17\n",
            "Episode 500\tAverage Score: -115.27\n",
            "Episode 600\tAverage Score: -111.01\n",
            "Episode 700\tAverage Score: -112.75\n",
            "Episode 800\tAverage Score: -108.87\n",
            "Episode 900\tAverage Score: -115.37\n",
            "Episode 1000\tAverage Score: -117.68\n",
            "Episode 1100\tAverage Score: -117.73\n",
            "Episode 1200\tAverage Score: -117.67\n",
            "Episode 1300\tAverage Score: -109.72\n",
            "Episode 1400\tAverage Score: -117.45\n",
            "Episode 1500\tAverage Score: -112.22\n",
            "Episode 1600\tAverage Score: -110.16\n",
            "Episode 1700\tAverage Score: -113.71\n",
            "Episode 1800\tAverage Score: -109.17\n",
            "Episode 1900\tAverage Score: -111.60\n",
            "Episode 2000\tAverage Score: -115.33\n"
          ]
        }
      ],
      "source": [
        "action_size = env.action_space.shape[0]\n",
        "action_size = len(action_range) ** action_size\n",
        "print('Action size: ', action_size)\n",
        "agent = Agent(state_size, action_size, seed=0, env=env)\n",
        "scores = dqn()"
      ]
    },
    {
      "cell_type": "markdown",
      "id": "1ba6726a-977a-4345-8897-021302bfc262",
      "metadata": {
        "id": "1ba6726a-977a-4345-8897-021302bfc262"
      },
      "source": [
        "### Plot the learning progress"
      ]
    },
    {
      "cell_type": "code",
      "execution_count": 22,
      "id": "d2d491c9-a5dc-4c32-a95d-796f85c60c83",
      "metadata": {
        "colab": {
          "base_uri": "https://localhost:8080/",
          "height": 449
        },
        "id": "d2d491c9-a5dc-4c32-a95d-796f85c60c83",
        "outputId": "c05680e1-90e1-4a3b-e19b-9b38cb2fe811"
      },
      "outputs": [
        {
          "data": {
            "image/png": "[encoded data removed]",
            "text/plain": [
              "<Figure size 640x480 with 1 Axes>"
            ]
          },
          "metadata": {},
          "output_type": "display_data"
        }
      ],
      "source": [
        "# plot the scores\n",
        "plt.plot(np.arange(len(scores)), scores)\n",
        "plt.ylabel('Episode Reward')\n",
        "plt.xlabel('Episode #')\n",
        "plt.show()"
      ]
    },
    {
      "cell_type": "markdown",
      "metadata": {},
      "source": [
        "### Bonus"
      ]
    },
    {
      "cell_type": "code",
      "execution_count": 23,
      "metadata": {},
      "outputs": [],
      "source": [
        "def eval(agent, num_episodes):\n",
        "    total_rewards = []\n",
        "\n",
        "    for _ in range(num_episodes):\n",
        "        state = env.reset()\n",
        "        done = False\n",
        "        total_reward = 0\n",
        "\n",
        "        while not done:\n",
        "            action = agent.act(state) \n",
        "            action = action_list[action] \n",
        "            next_state, reward, done, _ = env.step(action)\n",
        "            total_reward += reward\n",
        "            state = next_state\n",
        "\n",
        "        total_rewards.append(total_reward)\n",
        "\n",
        "    average_reward = np.mean(total_rewards)\n",
        "    return average_reward"
      ]
    },
    {
      "cell_type": "code",
      "execution_count": 24,
      "metadata": {},
      "outputs": [
        {
          "name": "stdout",
          "output_type": "stream",
          "text": [
            "Average reward:  -103.32295363689694\n"
          ]
        }
      ],
      "source": [
        "average_reward = eval(agent, 100)\n",
        "print('Average reward: ', average_reward)"
      ]
    }
  ],
  "metadata": {
    "accelerator": "GPU",
    "colab": {
      "gpuType": "T4",
      "provenance": []
    },
    "kernelspec": {
      "display_name": "Python 3",
      "name": "python3"
    },
    "language_info": {
      "codemirror_mode": {
        "name": "ipython",
        "version": 3
      },
      "file_extension": ".py",
      "mimetype": "text/x-python",
      "name": "python",
      "nbconvert_exporter": "python",
      "pygments_lexer": "ipython3",
      "version": "3.10.10"
    }
  },
  "nbformat": 4,
  "nbformat_minor": 5
}
