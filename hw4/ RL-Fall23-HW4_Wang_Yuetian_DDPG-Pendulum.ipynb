{
  "cells": [
    {
      "cell_type": "markdown",
      "metadata": {
        "id": "jeDAH0h0EBiG"
      },
      "source": [
        "Code to show a usecase of DDPG on a Pendulum environment"
      ]
    },
    {
      "cell_type": "code",
      "execution_count": 1,
      "metadata": {
        "id": "cygWLPGsEQ0m"
      },
      "outputs": [],
      "source": [
        "import gymnasium as gym\n",
        "import os\n",
        "\n",
        "import matplotlib.pyplot as plt\n",
        "import numpy as np\n",
        "from stable_baselines3 import PPO, DDPG\n",
        "from stable_baselines3.common.evaluation import evaluate_policy\n",
        "from stable_baselines3.common.monitor import Monitor\n",
        "from stable_baselines3.common.noise import OrnsteinUhlenbeckActionNoise"
      ]
    },
    {
      "cell_type": "code",
      "execution_count": 2,
      "metadata": {
        "id": "ZNPG0g_UGCfh"
      },
      "outputs": [
        {
          "name": "stdout",
          "output_type": "stream",
          "text": [
            "_____OBSERVATION SPACE_____ \n",
            "\n",
            "Observation Space Shape (3,)\n",
            "Sample observation [ 0.59675837 -0.06068799  3.3864245 ]\n",
            "\n",
            " _____ACTION SPACE_____ \n",
            "\n",
            "Action Space Shape (1,)\n",
            "Action Space Sample [-1.7642672]\n",
            "Action Space High [2.]\n",
            "Action Space Low [-2.]\n"
          ]
        }
      ],
      "source": [
        "env = gym.make(\"Pendulum-v1\")\n",
        "env.reset()\n",
        "print(\"_____OBSERVATION SPACE_____ \\n\")\n",
        "print(\"Observation Space Shape\", env.observation_space.shape)\n",
        "print(\"Sample observation\", env.observation_space.sample()) # Get a random observation\n",
        "print(\"\\n _____ACTION SPACE_____ \\n\")\n",
        "print(\"Action Space Shape\", env.action_space.shape)\n",
        "print(\"Action Space Sample\", env.action_space.sample()) # Take a random action\n",
        "print(\"Action Space High\", env.action_space.high) # Get the highest action value\n",
        "print(\"Action Space Low\", env.action_space.low) # Get the lowest action value"
      ]
    },
    {
      "cell_type": "markdown",
      "metadata": {
        "id": "VgrE86r5E5IK"
      },
      "source": [
        "## Create the Model\n",
        "- We are using an existing Deep RL library to set up the DDPG algorithm and model, [Stable Baselines3 (SB3)](https://stable-baselines3.readthedocs.io/en/master/).\n",
        "\n",
        "- SB3 is a set of **reliable implementations of reinforcement learning algorithms in PyTorch**."
      ]
    },
    {
      "cell_type": "code",
      "execution_count": 3,
      "metadata": {},
      "outputs": [
        {
          "data": {
            "application/vnd.jupyter.widget-view+json": {
              "model_id": "7418221490b340cd9611cbf9e48535f3",
              "version_major": 2,
              "version_minor": 0
            },
            "text/plain": [
              "Output()"
            ]
          },
          "metadata": {},
          "output_type": "display_data"
        },
        {
          "name": "stdout",
          "output_type": "stream",
          "text": [
            "Using cpu device\n",
            "Wrapping the env in a DummyVecEnv.\n"
          ]
        },
        {
          "name": "stdout",
          "output_type": "stream",
          "text": [
            "----------------------------------\n",
            "| rollout/           |           |\n",
            "|    ep_len_mean     | 200       |\n",
            "|    ep_rew_mean     | -1.35e+03 |\n",
            "| time/              |           |\n",
            "|    episodes        | 10        |\n",
            "|    fps             | 566       |\n",
            "|    time_elapsed    | 3         |\n",
            "|    total_timesteps | 2000      |\n",
            "| train/             |           |\n",
            "|    actor_loss      | 24        |\n",
            "|    critic_loss     | 0.0518    |\n",
            "|    learning_rate   | 0.001     |\n",
            "|    n_updates       | 800       |\n",
            "----------------------------------\n"
          ]
        },
        {
          "name": "stdout",
          "output_type": "stream",
          "text": [
            "---------------------------------\n",
            "| rollout/           |          |\n",
            "|    ep_len_mean     | 200      |\n",
            "|    ep_rew_mean     | -871     |\n",
            "| time/              |          |\n",
            "|    episodes        | 30       |\n",
            "|    fps             | 301      |\n",
            "|    time_elapsed    | 19       |\n",
            "|    total_timesteps | 6000     |\n",
            "| train/             |          |\n",
            "|    actor_loss      | 65.6     |\n",
            "|    critic_loss     | 0.567    |\n",
            "|    learning_rate   | 0.001    |\n",
            "|    n_updates       | 4800     |\n",
            "---------------------------------\n"
          ]
        },
        {
          "name": "stdout",
          "output_type": "stream",
          "text": [
            "---------------------------------\n",
            "| rollout/           |          |\n",
            "|    ep_len_mean     | 200      |\n",
            "|    ep_rew_mean     | -766     |\n",
            "| time/              |          |\n",
            "|    episodes        | 40       |\n",
            "|    fps             | 286      |\n",
            "|    time_elapsed    | 27       |\n",
            "|    total_timesteps | 8000     |\n",
            "| train/             |          |\n",
            "|    actor_loss      | 63.6     |\n",
            "|    critic_loss     | 1.28     |\n",
            "|    learning_rate   | 0.001    |\n",
            "|    n_updates       | 6800     |\n",
            "---------------------------------\n"
          ]
        },
        {
          "name": "stdout",
          "output_type": "stream",
          "text": [
            "---------------------------------\n",
            "| rollout/           |          |\n",
            "|    ep_len_mean     | 200      |\n",
            "|    ep_rew_mean     | -693     |\n",
            "| time/              |          |\n",
            "|    episodes        | 50       |\n",
            "|    fps             | 277      |\n",
            "|    time_elapsed    | 35       |\n",
            "|    total_timesteps | 10000    |\n",
            "| train/             |          |\n",
            "|    actor_loss      | 56       |\n",
            "|    critic_loss     | 1.36     |\n",
            "|    learning_rate   | 0.001    |\n",
            "|    n_updates       | 8800     |\n",
            "---------------------------------\n"
          ]
        },
        {
          "name": "stdout",
          "output_type": "stream",
          "text": [
            "---------------------------------\n",
            "| rollout/           |          |\n",
            "|    ep_len_mean     | 200      |\n",
            "|    ep_rew_mean     | -647     |\n",
            "| time/              |          |\n",
            "|    episodes        | 60       |\n",
            "|    fps             | 271      |\n",
            "|    time_elapsed    | 44       |\n",
            "|    total_timesteps | 12000    |\n",
            "| train/             |          |\n",
            "|    actor_loss      | 50.2     |\n",
            "|    critic_loss     | 1.4      |\n",
            "|    learning_rate   | 0.001    |\n",
            "|    n_updates       | 10800    |\n",
            "---------------------------------\n"
          ]
        },
        {
          "name": "stdout",
          "output_type": "stream",
          "text": [
            "---------------------------------\n",
            "| rollout/           |          |\n",
            "|    ep_len_mean     | 200      |\n",
            "|    ep_rew_mean     | -592     |\n",
            "| time/              |          |\n",
            "|    episodes        | 70       |\n",
            "|    fps             | 268      |\n",
            "|    time_elapsed    | 52       |\n",
            "|    total_timesteps | 14000    |\n",
            "| train/             |          |\n",
            "|    actor_loss      | 43.4     |\n",
            "|    critic_loss     | 1.43     |\n",
            "|    learning_rate   | 0.001    |\n",
            "|    n_updates       | 12800    |\n",
            "---------------------------------\n"
          ]
        },
        {
          "name": "stdout",
          "output_type": "stream",
          "text": [
            "---------------------------------\n",
            "| rollout/           |          |\n",
            "|    ep_len_mean     | 200      |\n",
            "|    ep_rew_mean     | -563     |\n",
            "| time/              |          |\n",
            "|    episodes        | 80       |\n",
            "|    fps             | 266      |\n",
            "|    time_elapsed    | 59       |\n",
            "|    total_timesteps | 16000    |\n",
            "| train/             |          |\n",
            "|    actor_loss      | 38.7     |\n",
            "|    critic_loss     | 1.27     |\n",
            "|    learning_rate   | 0.001    |\n",
            "|    n_updates       | 14800    |\n",
            "---------------------------------\n"
          ]
        },
        {
          "name": "stdout",
          "output_type": "stream",
          "text": [
            "---------------------------------\n",
            "| rollout/           |          |\n",
            "|    ep_len_mean     | 200      |\n",
            "|    ep_rew_mean     | -532     |\n",
            "| time/              |          |\n",
            "|    episodes        | 90       |\n",
            "|    fps             | 265      |\n",
            "|    time_elapsed    | 67       |\n",
            "|    total_timesteps | 18000    |\n",
            "| train/             |          |\n",
            "|    actor_loss      | 34.9     |\n",
            "|    critic_loss     | 1.15     |\n",
            "|    learning_rate   | 0.001    |\n",
            "|    n_updates       | 16800    |\n",
            "---------------------------------\n"
          ]
        },
        {
          "name": "stdout",
          "output_type": "stream",
          "text": [
            "---------------------------------\n",
            "| rollout/           |          |\n",
            "|    ep_len_mean     | 200      |\n",
            "|    ep_rew_mean     | -505     |\n",
            "| time/              |          |\n",
            "|    episodes        | 100      |\n",
            "|    fps             | 264      |\n",
            "|    time_elapsed    | 75       |\n",
            "|    total_timesteps | 20000    |\n",
            "| train/             |          |\n",
            "|    actor_loss      | 31.1     |\n",
            "|    critic_loss     | 0.984    |\n",
            "|    learning_rate   | 0.001    |\n",
            "|    n_updates       | 18800    |\n",
            "---------------------------------\n"
          ]
        },
        {
          "name": "stdout",
          "output_type": "stream",
          "text": [
            "---------------------------------\n",
            "| rollout/           |          |\n",
            "|    ep_len_mean     | 200      |\n",
            "|    ep_rew_mean     | -394     |\n",
            "| time/              |          |\n",
            "|    episodes        | 110      |\n",
            "|    fps             | 263      |\n",
            "|    time_elapsed    | 83       |\n",
            "|    total_timesteps | 22000    |\n",
            "| train/             |          |\n",
            "|    actor_loss      | 31       |\n",
            "|    critic_loss     | 0.986    |\n",
            "|    learning_rate   | 0.001    |\n",
            "|    n_updates       | 20800    |\n",
            "---------------------------------\n"
          ]
        },
        {
          "name": "stdout",
          "output_type": "stream",
          "text": [
            "---------------------------------\n",
            "| rollout/           |          |\n",
            "|    ep_len_mean     | 200      |\n",
            "|    ep_rew_mean     | -340     |\n",
            "| time/              |          |\n",
            "|    episodes        | 120      |\n",
            "|    fps             | 262      |\n",
            "|    time_elapsed    | 91       |\n",
            "|    total_timesteps | 24000    |\n",
            "| train/             |          |\n",
            "|    actor_loss      | 30.4     |\n",
            "|    critic_loss     | 0.874    |\n",
            "|    learning_rate   | 0.001    |\n",
            "|    n_updates       | 22800    |\n",
            "---------------------------------\n"
          ]
        },
        {
          "name": "stdout",
          "output_type": "stream",
          "text": [
            "---------------------------------\n",
            "| rollout/           |          |\n",
            "|    ep_len_mean     | 200      |\n",
            "|    ep_rew_mean     | -336     |\n",
            "| time/              |          |\n",
            "|    episodes        | 130      |\n",
            "|    fps             | 262      |\n",
            "|    time_elapsed    | 99       |\n",
            "|    total_timesteps | 26000    |\n",
            "| train/             |          |\n",
            "|    actor_loss      | 30       |\n",
            "|    critic_loss     | 0.925    |\n",
            "|    learning_rate   | 0.001    |\n",
            "|    n_updates       | 24800    |\n",
            "---------------------------------\n"
          ]
        },
        {
          "name": "stdout",
          "output_type": "stream",
          "text": [
            "---------------------------------\n",
            "| rollout/           |          |\n",
            "|    ep_len_mean     | 200      |\n",
            "|    ep_rew_mean     | -320     |\n",
            "| time/              |          |\n",
            "|    episodes        | 140      |\n",
            "|    fps             | 261      |\n",
            "|    time_elapsed    | 107      |\n",
            "|    total_timesteps | 28000    |\n",
            "| train/             |          |\n",
            "|    actor_loss      | 29.6     |\n",
            "|    critic_loss     | 0.969    |\n",
            "|    learning_rate   | 0.001    |\n",
            "|    n_updates       | 26800    |\n",
            "---------------------------------\n"
          ]
        },
        {
          "name": "stdout",
          "output_type": "stream",
          "text": [
            "---------------------------------\n",
            "| rollout/           |          |\n",
            "|    ep_len_mean     | 200      |\n",
            "|    ep_rew_mean     | -315     |\n",
            "| time/              |          |\n",
            "|    episodes        | 150      |\n",
            "|    fps             | 260      |\n",
            "|    time_elapsed    | 115      |\n",
            "|    total_timesteps | 30000    |\n",
            "| train/             |          |\n",
            "|    actor_loss      | 29.9     |\n",
            "|    critic_loss     | 0.916    |\n",
            "|    learning_rate   | 0.001    |\n",
            "|    n_updates       | 28800    |\n",
            "---------------------------------\n"
          ]
        },
        {
          "name": "stdout",
          "output_type": "stream",
          "text": [
            "---------------------------------\n",
            "| rollout/           |          |\n",
            "|    ep_len_mean     | 200      |\n",
            "|    ep_rew_mean     | -293     |\n",
            "| time/              |          |\n",
            "|    episodes        | 160      |\n",
            "|    fps             | 260      |\n",
            "|    time_elapsed    | 122      |\n",
            "|    total_timesteps | 32000    |\n",
            "| train/             |          |\n",
            "|    actor_loss      | 28.5     |\n",
            "|    critic_loss     | 1.05     |\n",
            "|    learning_rate   | 0.001    |\n",
            "|    n_updates       | 30800    |\n",
            "---------------------------------\n"
          ]
        },
        {
          "name": "stdout",
          "output_type": "stream",
          "text": [
            "---------------------------------\n",
            "| rollout/           |          |\n",
            "|    ep_len_mean     | 200      |\n",
            "|    ep_rew_mean     | -300     |\n",
            "| time/              |          |\n",
            "|    episodes        | 170      |\n",
            "|    fps             | 259      |\n",
            "|    time_elapsed    | 131      |\n",
            "|    total_timesteps | 34000    |\n",
            "| train/             |          |\n",
            "|    actor_loss      | 27.6     |\n",
            "|    critic_loss     | 0.984    |\n",
            "|    learning_rate   | 0.001    |\n",
            "|    n_updates       | 32800    |\n",
            "---------------------------------\n"
          ]
        },
        {
          "name": "stdout",
          "output_type": "stream",
          "text": [
            "---------------------------------\n",
            "| rollout/           |          |\n",
            "|    ep_len_mean     | 200      |\n",
            "|    ep_rew_mean     | -282     |\n",
            "| time/              |          |\n",
            "|    episodes        | 180      |\n",
            "|    fps             | 258      |\n",
            "|    time_elapsed    | 139      |\n",
            "|    total_timesteps | 36000    |\n",
            "| train/             |          |\n",
            "|    actor_loss      | 26.8     |\n",
            "|    critic_loss     | 1.11     |\n",
            "|    learning_rate   | 0.001    |\n",
            "|    n_updates       | 34800    |\n",
            "---------------------------------\n"
          ]
        },
        {
          "name": "stdout",
          "output_type": "stream",
          "text": [
            "---------------------------------\n",
            "| rollout/           |          |\n",
            "|    ep_len_mean     | 200      |\n",
            "|    ep_rew_mean     | -284     |\n",
            "| time/              |          |\n",
            "|    episodes        | 190      |\n",
            "|    fps             | 257      |\n",
            "|    time_elapsed    | 147      |\n",
            "|    total_timesteps | 38000    |\n",
            "| train/             |          |\n",
            "|    actor_loss      | 26.1     |\n",
            "|    critic_loss     | 0.932    |\n",
            "|    learning_rate   | 0.001    |\n",
            "|    n_updates       | 36800    |\n",
            "---------------------------------\n"
          ]
        },
        {
          "name": "stdout",
          "output_type": "stream",
          "text": [
            "---------------------------------\n",
            "| rollout/           |          |\n",
            "|    ep_len_mean     | 200      |\n",
            "|    ep_rew_mean     | -279     |\n",
            "| time/              |          |\n",
            "|    episodes        | 200      |\n",
            "|    fps             | 256      |\n",
            "|    time_elapsed    | 155      |\n",
            "|    total_timesteps | 40000    |\n",
            "| train/             |          |\n",
            "|    actor_loss      | 25.8     |\n",
            "|    critic_loss     | 0.971    |\n",
            "|    learning_rate   | 0.001    |\n",
            "|    n_updates       | 38800    |\n",
            "---------------------------------\n"
          ]
        },
        {
          "name": "stdout",
          "output_type": "stream",
          "text": [
            "---------------------------------\n",
            "| rollout/           |          |\n",
            "|    ep_len_mean     | 200      |\n",
            "|    ep_rew_mean     | -289     |\n",
            "| time/              |          |\n",
            "|    episodes        | 210      |\n",
            "|    fps             | 256      |\n",
            "|    time_elapsed    | 163      |\n",
            "|    total_timesteps | 42000    |\n",
            "| train/             |          |\n",
            "|    actor_loss      | 25.6     |\n",
            "|    critic_loss     | 0.975    |\n",
            "|    learning_rate   | 0.001    |\n",
            "|    n_updates       | 40800    |\n",
            "---------------------------------\n"
          ]
        },
        {
          "name": "stdout",
          "output_type": "stream",
          "text": [
            "---------------------------------\n",
            "| rollout/           |          |\n",
            "|    ep_len_mean     | 200      |\n",
            "|    ep_rew_mean     | -295     |\n",
            "| time/              |          |\n",
            "|    episodes        | 220      |\n",
            "|    fps             | 256      |\n",
            "|    time_elapsed    | 171      |\n",
            "|    total_timesteps | 44000    |\n",
            "| train/             |          |\n",
            "|    actor_loss      | 25.6     |\n",
            "|    critic_loss     | 1        |\n",
            "|    learning_rate   | 0.001    |\n",
            "|    n_updates       | 42800    |\n",
            "---------------------------------\n"
          ]
        },
        {
          "name": "stdout",
          "output_type": "stream",
          "text": [
            "---------------------------------\n",
            "| rollout/           |          |\n",
            "|    ep_len_mean     | 200      |\n",
            "|    ep_rew_mean     | -291     |\n",
            "| time/              |          |\n",
            "|    episodes        | 230      |\n",
            "|    fps             | 256      |\n",
            "|    time_elapsed    | 179      |\n",
            "|    total_timesteps | 46000    |\n",
            "| train/             |          |\n",
            "|    actor_loss      | 25.7     |\n",
            "|    critic_loss     | 0.92     |\n",
            "|    learning_rate   | 0.001    |\n",
            "|    n_updates       | 44800    |\n",
            "---------------------------------\n"
          ]
        },
        {
          "name": "stdout",
          "output_type": "stream",
          "text": [
            "---------------------------------\n",
            "| rollout/           |          |\n",
            "|    ep_len_mean     | 200      |\n",
            "|    ep_rew_mean     | -286     |\n",
            "| time/              |          |\n",
            "|    episodes        | 240      |\n",
            "|    fps             | 256      |\n",
            "|    time_elapsed    | 187      |\n",
            "|    total_timesteps | 48000    |\n",
            "| train/             |          |\n",
            "|    actor_loss      | 26.2     |\n",
            "|    critic_loss     | 0.674    |\n",
            "|    learning_rate   | 0.001    |\n",
            "|    n_updates       | 46800    |\n",
            "---------------------------------\n"
          ]
        },
        {
          "name": "stdout",
          "output_type": "stream",
          "text": [
            "---------------------------------\n",
            "| rollout/           |          |\n",
            "|    ep_len_mean     | 200      |\n",
            "|    ep_rew_mean     | -264     |\n",
            "| time/              |          |\n",
            "|    episodes        | 250      |\n",
            "|    fps             | 256      |\n",
            "|    time_elapsed    | 194      |\n",
            "|    total_timesteps | 50000    |\n",
            "| train/             |          |\n",
            "|    actor_loss      | 25.2     |\n",
            "|    critic_loss     | 0.86     |\n",
            "|    learning_rate   | 0.001    |\n",
            "|    n_updates       | 48800    |\n",
            "---------------------------------\n"
          ]
        },
        {
          "name": "stdout",
          "output_type": "stream",
          "text": [
            "---------------------------------\n",
            "| rollout/           |          |\n",
            "|    ep_len_mean     | 200      |\n",
            "|    ep_rew_mean     | -277     |\n",
            "| time/              |          |\n",
            "|    episodes        | 260      |\n",
            "|    fps             | 256      |\n",
            "|    time_elapsed    | 202      |\n",
            "|    total_timesteps | 52000    |\n",
            "| train/             |          |\n",
            "|    actor_loss      | 25.4     |\n",
            "|    critic_loss     | 0.767    |\n",
            "|    learning_rate   | 0.001    |\n",
            "|    n_updates       | 50800    |\n",
            "---------------------------------\n"
          ]
        },
        {
          "name": "stdout",
          "output_type": "stream",
          "text": [
            "---------------------------------\n",
            "| rollout/           |          |\n",
            "|    ep_len_mean     | 200      |\n",
            "|    ep_rew_mean     | -273     |\n",
            "| time/              |          |\n",
            "|    episodes        | 270      |\n",
            "|    fps             | 255      |\n",
            "|    time_elapsed    | 211      |\n",
            "|    total_timesteps | 54000    |\n",
            "| train/             |          |\n",
            "|    actor_loss      | 25.5     |\n",
            "|    critic_loss     | 0.64     |\n",
            "|    learning_rate   | 0.001    |\n",
            "|    n_updates       | 52800    |\n",
            "---------------------------------\n"
          ]
        },
        {
          "name": "stdout",
          "output_type": "stream",
          "text": [
            "---------------------------------\n",
            "| rollout/           |          |\n",
            "|    ep_len_mean     | 200      |\n",
            "|    ep_rew_mean     | -283     |\n",
            "| time/              |          |\n",
            "|    episodes        | 280      |\n",
            "|    fps             | 255      |\n",
            "|    time_elapsed    | 219      |\n",
            "|    total_timesteps | 56000    |\n",
            "| train/             |          |\n",
            "|    actor_loss      | 25.3     |\n",
            "|    critic_loss     | 0.772    |\n",
            "|    learning_rate   | 0.001    |\n",
            "|    n_updates       | 54800    |\n",
            "---------------------------------\n"
          ]
        },
        {
          "name": "stdout",
          "output_type": "stream",
          "text": [
            "---------------------------------\n",
            "| rollout/           |          |\n",
            "|    ep_len_mean     | 200      |\n",
            "|    ep_rew_mean     | -280     |\n",
            "| time/              |          |\n",
            "|    episodes        | 290      |\n",
            "|    fps             | 255      |\n",
            "|    time_elapsed    | 226      |\n",
            "|    total_timesteps | 58000    |\n",
            "| train/             |          |\n",
            "|    actor_loss      | 25.5     |\n",
            "|    critic_loss     | 0.754    |\n",
            "|    learning_rate   | 0.001    |\n",
            "|    n_updates       | 56800    |\n",
            "---------------------------------\n"
          ]
        },
        {
          "name": "stdout",
          "output_type": "stream",
          "text": [
            "---------------------------------\n",
            "| rollout/           |          |\n",
            "|    ep_len_mean     | 200      |\n",
            "|    ep_rew_mean     | -280     |\n",
            "| time/              |          |\n",
            "|    episodes        | 300      |\n",
            "|    fps             | 255      |\n",
            "|    time_elapsed    | 235      |\n",
            "|    total_timesteps | 60000    |\n",
            "| train/             |          |\n",
            "|    actor_loss      | 25.3     |\n",
            "|    critic_loss     | 0.856    |\n",
            "|    learning_rate   | 0.001    |\n",
            "|    n_updates       | 58800    |\n",
            "---------------------------------\n"
          ]
        },
        {
          "name": "stdout",
          "output_type": "stream",
          "text": [
            "---------------------------------\n",
            "| rollout/           |          |\n",
            "|    ep_len_mean     | 200      |\n",
            "|    ep_rew_mean     | -279     |\n",
            "| time/              |          |\n",
            "|    episodes        | 310      |\n",
            "|    fps             | 255      |\n",
            "|    time_elapsed    | 242      |\n",
            "|    total_timesteps | 62000    |\n",
            "| train/             |          |\n",
            "|    actor_loss      | 25.2     |\n",
            "|    critic_loss     | 0.78     |\n",
            "|    learning_rate   | 0.001    |\n",
            "|    n_updates       | 60800    |\n",
            "---------------------------------\n"
          ]
        },
        {
          "name": "stdout",
          "output_type": "stream",
          "text": [
            "---------------------------------\n",
            "| rollout/           |          |\n",
            "|    ep_len_mean     | 200      |\n",
            "|    ep_rew_mean     | -280     |\n",
            "| time/              |          |\n",
            "|    episodes        | 320      |\n",
            "|    fps             | 255      |\n",
            "|    time_elapsed    | 250      |\n",
            "|    total_timesteps | 64000    |\n",
            "| train/             |          |\n",
            "|    actor_loss      | 25.5     |\n",
            "|    critic_loss     | 0.868    |\n",
            "|    learning_rate   | 0.001    |\n",
            "|    n_updates       | 62800    |\n",
            "---------------------------------\n"
          ]
        },
        {
          "name": "stdout",
          "output_type": "stream",
          "text": [
            "---------------------------------\n",
            "| rollout/           |          |\n",
            "|    ep_len_mean     | 200      |\n",
            "|    ep_rew_mean     | -269     |\n",
            "| time/              |          |\n",
            "|    episodes        | 330      |\n",
            "|    fps             | 255      |\n",
            "|    time_elapsed    | 258      |\n",
            "|    total_timesteps | 66000    |\n",
            "| train/             |          |\n",
            "|    actor_loss      | 25.5     |\n",
            "|    critic_loss     | 0.846    |\n",
            "|    learning_rate   | 0.001    |\n",
            "|    n_updates       | 64800    |\n",
            "---------------------------------\n"
          ]
        },
        {
          "name": "stdout",
          "output_type": "stream",
          "text": [
            "---------------------------------\n",
            "| rollout/           |          |\n",
            "|    ep_len_mean     | 200      |\n",
            "|    ep_rew_mean     | -274     |\n",
            "| time/              |          |\n",
            "|    episodes        | 340      |\n",
            "|    fps             | 255      |\n",
            "|    time_elapsed    | 265      |\n",
            "|    total_timesteps | 68000    |\n",
            "| train/             |          |\n",
            "|    actor_loss      | 25.1     |\n",
            "|    critic_loss     | 0.918    |\n",
            "|    learning_rate   | 0.001    |\n",
            "|    n_updates       | 66800    |\n",
            "---------------------------------\n"
          ]
        },
        {
          "name": "stdout",
          "output_type": "stream",
          "text": [
            "---------------------------------\n",
            "| rollout/           |          |\n",
            "|    ep_len_mean     | 200      |\n",
            "|    ep_rew_mean     | -283     |\n",
            "| time/              |          |\n",
            "|    episodes        | 350      |\n",
            "|    fps             | 255      |\n",
            "|    time_elapsed    | 273      |\n",
            "|    total_timesteps | 70000    |\n",
            "| train/             |          |\n",
            "|    actor_loss      | 24.8     |\n",
            "|    critic_loss     | 0.902    |\n",
            "|    learning_rate   | 0.001    |\n",
            "|    n_updates       | 68800    |\n",
            "---------------------------------\n"
          ]
        },
        {
          "name": "stdout",
          "output_type": "stream",
          "text": [
            "---------------------------------\n",
            "| rollout/           |          |\n",
            "|    ep_len_mean     | 200      |\n",
            "|    ep_rew_mean     | -268     |\n",
            "| time/              |          |\n",
            "|    episodes        | 360      |\n",
            "|    fps             | 256      |\n",
            "|    time_elapsed    | 280      |\n",
            "|    total_timesteps | 72000    |\n",
            "| train/             |          |\n",
            "|    actor_loss      | 25.2     |\n",
            "|    critic_loss     | 0.682    |\n",
            "|    learning_rate   | 0.001    |\n",
            "|    n_updates       | 70800    |\n",
            "---------------------------------\n"
          ]
        },
        {
          "name": "stdout",
          "output_type": "stream",
          "text": [
            "---------------------------------\n",
            "| rollout/           |          |\n",
            "|    ep_len_mean     | 200      |\n",
            "|    ep_rew_mean     | -269     |\n",
            "| time/              |          |\n",
            "|    episodes        | 370      |\n",
            "|    fps             | 256      |\n",
            "|    time_elapsed    | 288      |\n",
            "|    total_timesteps | 74000    |\n",
            "| train/             |          |\n",
            "|    actor_loss      | 24       |\n",
            "|    critic_loss     | 0.874    |\n",
            "|    learning_rate   | 0.001    |\n",
            "|    n_updates       | 72800    |\n",
            "---------------------------------\n"
          ]
        },
        {
          "name": "stdout",
          "output_type": "stream",
          "text": [
            "---------------------------------\n",
            "| rollout/           |          |\n",
            "|    ep_len_mean     | 200      |\n",
            "|    ep_rew_mean     | -265     |\n",
            "| time/              |          |\n",
            "|    episodes        | 380      |\n",
            "|    fps             | 256      |\n",
            "|    time_elapsed    | 296      |\n",
            "|    total_timesteps | 76000    |\n",
            "| train/             |          |\n",
            "|    actor_loss      | 24.6     |\n",
            "|    critic_loss     | 0.608    |\n",
            "|    learning_rate   | 0.001    |\n",
            "|    n_updates       | 74800    |\n",
            "---------------------------------\n"
          ]
        },
        {
          "name": "stdout",
          "output_type": "stream",
          "text": [
            "---------------------------------\n",
            "| rollout/           |          |\n",
            "|    ep_len_mean     | 200      |\n",
            "|    ep_rew_mean     | -265     |\n",
            "| time/              |          |\n",
            "|    episodes        | 390      |\n",
            "|    fps             | 256      |\n",
            "|    time_elapsed    | 303      |\n",
            "|    total_timesteps | 78000    |\n",
            "| train/             |          |\n",
            "|    actor_loss      | 23.7     |\n",
            "|    critic_loss     | 0.711    |\n",
            "|    learning_rate   | 0.001    |\n",
            "|    n_updates       | 76800    |\n",
            "---------------------------------\n"
          ]
        },
        {
          "name": "stdout",
          "output_type": "stream",
          "text": [
            "---------------------------------\n",
            "| rollout/           |          |\n",
            "|    ep_len_mean     | 200      |\n",
            "|    ep_rew_mean     | -281     |\n",
            "| time/              |          |\n",
            "|    episodes        | 400      |\n",
            "|    fps             | 257      |\n",
            "|    time_elapsed    | 311      |\n",
            "|    total_timesteps | 80000    |\n",
            "| train/             |          |\n",
            "|    actor_loss      | 23.5     |\n",
            "|    critic_loss     | 0.692    |\n",
            "|    learning_rate   | 0.001    |\n",
            "|    n_updates       | 78800    |\n",
            "---------------------------------\n"
          ]
        },
        {
          "name": "stdout",
          "output_type": "stream",
          "text": [
            "---------------------------------\n",
            "| rollout/           |          |\n",
            "|    ep_len_mean     | 200      |\n",
            "|    ep_rew_mean     | -272     |\n",
            "| time/              |          |\n",
            "|    episodes        | 410      |\n",
            "|    fps             | 257      |\n",
            "|    time_elapsed    | 318      |\n",
            "|    total_timesteps | 82000    |\n",
            "| train/             |          |\n",
            "|    actor_loss      | 24       |\n",
            "|    critic_loss     | 0.87     |\n",
            "|    learning_rate   | 0.001    |\n",
            "|    n_updates       | 80800    |\n",
            "---------------------------------\n"
          ]
        },
        {
          "name": "stdout",
          "output_type": "stream",
          "text": [
            "---------------------------------\n",
            "| rollout/           |          |\n",
            "|    ep_len_mean     | 200      |\n",
            "|    ep_rew_mean     | -258     |\n",
            "| time/              |          |\n",
            "|    episodes        | 420      |\n",
            "|    fps             | 257      |\n",
            "|    time_elapsed    | 326      |\n",
            "|    total_timesteps | 84000    |\n",
            "| train/             |          |\n",
            "|    actor_loss      | 23.1     |\n",
            "|    critic_loss     | 0.915    |\n",
            "|    learning_rate   | 0.001    |\n",
            "|    n_updates       | 82800    |\n",
            "---------------------------------\n"
          ]
        },
        {
          "name": "stdout",
          "output_type": "stream",
          "text": [
            "---------------------------------\n",
            "| rollout/           |          |\n",
            "|    ep_len_mean     | 200      |\n",
            "|    ep_rew_mean     | -268     |\n",
            "| time/              |          |\n",
            "|    episodes        | 430      |\n",
            "|    fps             | 257      |\n",
            "|    time_elapsed    | 334      |\n",
            "|    total_timesteps | 86000    |\n",
            "| train/             |          |\n",
            "|    actor_loss      | 23.5     |\n",
            "|    critic_loss     | 0.999    |\n",
            "|    learning_rate   | 0.001    |\n",
            "|    n_updates       | 84800    |\n",
            "---------------------------------\n"
          ]
        },
        {
          "name": "stdout",
          "output_type": "stream",
          "text": [
            "---------------------------------\n",
            "| rollout/           |          |\n",
            "|    ep_len_mean     | 200      |\n",
            "|    ep_rew_mean     | -277     |\n",
            "| time/              |          |\n",
            "|    episodes        | 440      |\n",
            "|    fps             | 257      |\n",
            "|    time_elapsed    | 342      |\n",
            "|    total_timesteps | 88000    |\n",
            "| train/             |          |\n",
            "|    actor_loss      | 23.3     |\n",
            "|    critic_loss     | 0.677    |\n",
            "|    learning_rate   | 0.001    |\n",
            "|    n_updates       | 86800    |\n",
            "---------------------------------\n"
          ]
        },
        {
          "name": "stdout",
          "output_type": "stream",
          "text": [
            "---------------------------------\n",
            "| rollout/           |          |\n",
            "|    ep_len_mean     | 200      |\n",
            "|    ep_rew_mean     | -296     |\n",
            "| time/              |          |\n",
            "|    episodes        | 450      |\n",
            "|    fps             | 257      |\n",
            "|    time_elapsed    | 349      |\n",
            "|    total_timesteps | 90000    |\n",
            "| train/             |          |\n",
            "|    actor_loss      | 23.8     |\n",
            "|    critic_loss     | 0.668    |\n",
            "|    learning_rate   | 0.001    |\n",
            "|    n_updates       | 88800    |\n",
            "---------------------------------\n"
          ]
        },
        {
          "name": "stdout",
          "output_type": "stream",
          "text": [
            "---------------------------------\n",
            "| rollout/           |          |\n",
            "|    ep_len_mean     | 200      |\n",
            "|    ep_rew_mean     | -321     |\n",
            "| time/              |          |\n",
            "|    episodes        | 460      |\n",
            "|    fps             | 257      |\n",
            "|    time_elapsed    | 357      |\n",
            "|    total_timesteps | 92000    |\n",
            "| train/             |          |\n",
            "|    actor_loss      | 23       |\n",
            "|    critic_loss     | 0.621    |\n",
            "|    learning_rate   | 0.001    |\n",
            "|    n_updates       | 90800    |\n",
            "---------------------------------\n"
          ]
        },
        {
          "name": "stdout",
          "output_type": "stream",
          "text": [
            "---------------------------------\n",
            "| rollout/           |          |\n",
            "|    ep_len_mean     | 200      |\n",
            "|    ep_rew_mean     | -330     |\n",
            "| time/              |          |\n",
            "|    episodes        | 470      |\n",
            "|    fps             | 257      |\n",
            "|    time_elapsed    | 364      |\n",
            "|    total_timesteps | 94000    |\n",
            "| train/             |          |\n",
            "|    actor_loss      | 22.7     |\n",
            "|    critic_loss     | 0.683    |\n",
            "|    learning_rate   | 0.001    |\n",
            "|    n_updates       | 92800    |\n",
            "---------------------------------\n"
          ]
        },
        {
          "name": "stdout",
          "output_type": "stream",
          "text": [
            "---------------------------------\n",
            "| rollout/           |          |\n",
            "|    ep_len_mean     | 200      |\n",
            "|    ep_rew_mean     | -328     |\n",
            "| time/              |          |\n",
            "|    episodes        | 480      |\n",
            "|    fps             | 257      |\n",
            "|    time_elapsed    | 372      |\n",
            "|    total_timesteps | 96000    |\n",
            "| train/             |          |\n",
            "|    actor_loss      | 23.5     |\n",
            "|    critic_loss     | 0.95     |\n",
            "|    learning_rate   | 0.001    |\n",
            "|    n_updates       | 94800    |\n",
            "---------------------------------\n"
          ]
        },
        {
          "name": "stdout",
          "output_type": "stream",
          "text": [
            "---------------------------------\n",
            "| rollout/           |          |\n",
            "|    ep_len_mean     | 200      |\n",
            "|    ep_rew_mean     | -328     |\n",
            "| time/              |          |\n",
            "|    episodes        | 490      |\n",
            "|    fps             | 257      |\n",
            "|    time_elapsed    | 380      |\n",
            "|    total_timesteps | 98000    |\n",
            "| train/             |          |\n",
            "|    actor_loss      | 23       |\n",
            "|    critic_loss     | 0.723    |\n",
            "|    learning_rate   | 0.001    |\n",
            "|    n_updates       | 96800    |\n",
            "---------------------------------\n"
          ]
        },
        {
          "name": "stdout",
          "output_type": "stream",
          "text": [
            "---------------------------------\n",
            "| rollout/           |          |\n",
            "|    ep_len_mean     | 200      |\n",
            "|    ep_rew_mean     | -347     |\n",
            "| time/              |          |\n",
            "|    episodes        | 500      |\n",
            "|    fps             | 257      |\n",
            "|    time_elapsed    | 387      |\n",
            "|    total_timesteps | 100000   |\n",
            "| train/             |          |\n",
            "|    actor_loss      | 24.1     |\n",
            "|    critic_loss     | 0.557    |\n",
            "|    learning_rate   | 0.001    |\n",
            "|    n_updates       | 98800    |\n",
            "---------------------------------\n"
          ]
        },
        {
          "data": {
            "text/html": [
              "<pre style=\"white-space:pre;overflow-x:auto;line-height:normal;font-family:Menlo,'DejaVu Sans Mono',consolas,'Courier New',monospace\"></pre>\n"
            ],
            "text/plain": []
          },
          "metadata": {},
          "output_type": "display_data"
        },
        {
          "data": {
            "text/html": [
              "<pre style=\"white-space:pre;overflow-x:auto;line-height:normal;font-family:Menlo,'DejaVu Sans Mono',consolas,'Courier New',monospace\">\n",
              "</pre>\n"
            ],
            "text/plain": [
              "\n"
            ]
          },
          "metadata": {},
          "output_type": "display_data"
        }
      ],
      "source": [
        "log_dir = \"/tmp/gym/\"\n",
        "os.makedirs(log_dir, exist_ok=True)\n",
        "env = Monitor(env, log_dir)\n",
        "action_noise = OrnsteinUhlenbeckActionNoise(mean=np.zeros(1), sigma=float(0.5) * np.ones(1))\n",
        "\n",
        "ddpg_model = DDPG(\n",
        "    policy='MlpPolicy',\n",
        "    env=env,\n",
        "    learning_rate=1e-3,\n",
        "    buffer_size=200000,\n",
        "    learning_starts=1000,\n",
        "    action_noise=action_noise,\n",
        "    gamma=0.98,\n",
        "    train_freq=(1,'episode'),\n",
        "    verbose=1,\n",
        "    seed=42)\n",
        "\n",
        "ddpg_model.learn(total_timesteps=1e5, log_interval=10, progress_bar=True)\n",
        "# Save the model\n",
        "model_name = \"ddpg-Pendulum-v1-ex2\"\n",
        "ddpg_model.save(model_name)"
      ]
    },
    {
      "cell_type": "code",
      "execution_count": 4,
      "metadata": {
        "id": "xsaO7Hd-ydFk"
      },
      "outputs": [
        {
          "data": {
            "image/png": "[encoded data removed]",
            "text/plain": [
              "<Figure size 640x480 with 1 Axes>"
            ]
          },
          "metadata": {},
          "output_type": "display_data"
        }
      ],
      "source": [
        "episode_rew_ddpg = env.get_episode_rewards()\n",
        "episode_rew_ddpg_ma = (np.convolve(episode_rew_ddpg, np.ones(10), \"valid\") / 10)\n",
        "plt.plot(np.arange(10, len(episode_rew_ddpg)+1), episode_rew_ddpg_ma)\n",
        "plt.ylabel('Average Reward for the past 100 episodes')\n",
        "plt.xlabel('Episode #')\n",
        "plt.show()"
      ]
    },
    {
      "cell_type": "code",
      "execution_count": 5,
      "metadata": {
        "id": "sIDZFa8sfMyu"
      },
      "outputs": [
        {
          "data": {
            "image/png": "[encoded data removed]",
            "text/plain": [
              "<Figure size 640x480 with 1 Axes>"
            ]
          },
          "metadata": {},
          "output_type": "display_data"
        }
      ],
      "source": [
        "episode_len_ddpg = env.get_episode_lengths()\n",
        "episode_len_ddpg_ma = (np.convolve(episode_len_ddpg, np.ones(10), \"valid\") / 10)\n",
        "plt.plot(np.arange(10, len(episode_len_ddpg)+1), episode_len_ddpg_ma)\n",
        "plt.ylabel('Average Episode Length for the past 100 episodes')\n",
        "plt.xlabel('Episode #')\n",
        "plt.show()"
      ]
    },
    {
      "cell_type": "code",
      "execution_count": 6,
      "metadata": {
        "id": "zpz8kHlt_a_m"
      },
      "outputs": [
        {
          "name": "stdout",
          "output_type": "stream",
          "text": [
            "Training steps: 100,000 || mean_reward=-147.32 +/- 69.73641176762966\n"
          ]
        }
      ],
      "source": [
        "# Evaluate the final agent\n",
        "eval_env = Monitor(gym.make(\"Pendulum-v1\"))\n",
        "mean_reward, std_reward = evaluate_policy(ddpg_model, eval_env, n_eval_episodes=10, deterministic=True)\n",
        "print(f\"Training steps: 100,000 || mean_reward={mean_reward:.2f} +/- {std_reward}\")"
      ]
    },
    {
      "cell_type": "code",
      "execution_count": 7,
      "metadata": {
        "id": "RBHaZb_0-vbr"
      },
      "outputs": [],
      "source": [
        "import glob\n",
        "import io\n",
        "import base64\n",
        "from IPython import display\n",
        "from IPython.display import HTML\n",
        "from gym.wrappers.monitoring import video_recorder\n",
        "import torch\n",
        "\n",
        "def show_video(video_name):\n",
        "    mp4list = glob.glob('video/ex2/*.mp4')\n",
        "    if len(mp4list) > 0:\n",
        "        mp4 = 'video/ex2/{}.mp4'.format(video_name)\n",
        "        video = io.open(mp4, 'r+b').read()\n",
        "        encoded = base64.b64encode(video)\n",
        "        display.display(HTML(data='''<video alt=\"test\" autoplay\n",
        "                loop controls style=\"height: 400px;\">\n",
        "                <source src=\"data:video/mp4;base64,{0}\" type=\"video/mp4\" />\n",
        "             </video>'''.format(encoded.decode('ascii'))))\n",
        "    else:\n",
        "        print(\"Could not find video\")\n",
        "\n",
        "def show_video_of_model(agent, env_name, video_name):\n",
        "    env = gym.make(env_name, render_mode='rgb_array')\n",
        "    vid = video_recorder.VideoRecorder(env, path=\"video/ex2/{}.mp4\".format(video_name))\n",
        "    state, _ = env.reset()\n",
        "    done, truncated = False, False\n",
        "    reward_list = []\n",
        "    while not done and not truncated:\n",
        "        frame = env.render()\n",
        "\n",
        "        vid.capture_frame()\n",
        "        # import pdb; pdb.set_trace()\n",
        "        action = agent.predict(state)\n",
        "\n",
        "        state, reward, done, truncated, _ = env.step(action[0])\n",
        "        reward_list.append(reward)\n",
        "    vid.close()\n",
        "    env.close()\n",
        "    print(np.array(reward_list).sum())"
      ]
    },
    {
      "cell_type": "code",
      "execution_count": 8,
      "metadata": {
        "id": "657Bx1Cur5bg"
      },
      "outputs": [
        {
          "name": "stdout",
          "output_type": "stream",
          "text": [
            "mkdir: video: File exists\n",
            "mkdir: video/ex2: File exists\n"
          ]
        }
      ],
      "source": [
        "!mkdir video\n",
        "!mkdir video/ex2"
      ]
    },
    {
      "cell_type": "code",
      "execution_count": 9,
      "metadata": {
        "id": "ELLwGIQLscQa"
      },
      "outputs": [],
      "source": [
        "saved_model = DDPG.load(\"./ddpg-Pendulum-v1-ex2.zip\")"
      ]
    },
    {
      "cell_type": "code",
      "execution_count": 10,
      "metadata": {
        "id": "yeGcDhKcudqY"
      },
      "outputs": [
        {
          "name": "stderr",
          "output_type": "stream",
          "text": [
            "/Users/keithwang/miniforge3_arm64/lib/python3.10/site-packages/gym/wrappers/monitoring/video_recorder.py:101: DeprecationWarning: \u001b[33mWARN: <class 'gym.wrappers.monitoring.video_recorder.VideoRecorder'> is marked as deprecated and will be removed in the future.\u001b[0m\n",
            "  logger.deprecation(\n"
          ]
        },
        {
          "name": "stdout",
          "output_type": "stream",
          "text": [
            "-229.92211294511316\n"
          ]
        },
        {
          "data": {
            "text/html": [
              "<video alt=\"test\" autoplay\n",
              "                loop controls style=\"height: 400px;\">\n",
              "                <source src=\"data:video/mp4;base64,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\" type=\"video/mp4\" />\n",
              "             </video>"
            ],
            "text/plain": [
              "<IPython.core.display.HTML object>"
            ]
          },
          "metadata": {},
          "output_type": "display_data"
        }
      ],
      "source": [
        "show_video_of_model(saved_model, \"Pendulum-v1\", 'DDPG')\n",
        "show_video('DDPG')"
      ]
    }
  ],
  "metadata": {
    "accelerator": "GPU",
    "colab": {
      "gpuType": "T4",
      "provenance": []
    },
    "kernelspec": {
      "display_name": "Python 3",
      "name": "python3"
    },
    "language_info": {
      "codemirror_mode": {
        "name": "ipython",
        "version": 3
      },
      "file_extension": ".py",
      "mimetype": "text/x-python",
      "name": "python",
      "nbconvert_exporter": "python",
      "pygments_lexer": "ipython3",
      "version": "3.10.10"
    },
    "vscode": {
      "interpreter": {
        "hash": "ed7f8024e43d3b8f5ca3c5e1a8151ab4d136b3ecee1e3fd59e0766ccc55e1b10"
      }
    }
  },
  "nbformat": 4,
  "nbformat_minor": 0
}
