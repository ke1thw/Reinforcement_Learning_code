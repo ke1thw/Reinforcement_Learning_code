{
  "cells": [
    {
      "cell_type": "markdown",
      "metadata": {
        "id": "jeDAH0h0EBiG"
      },
      "source": [
        "Code to show a usecase of SAC on a Pendulum environment"
      ]
    },
    {
      "cell_type": "code",
      "execution_count": 1,
      "metadata": {
        "id": "cygWLPGsEQ0m"
      },
      "outputs": [],
      "source": [
        "import gymnasium as gym\n",
        "import os\n",
        "\n",
        "import matplotlib.pyplot as plt\n",
        "import numpy as np\n",
        "from stable_baselines3 import PPO, DDPG, SAC\n",
        "from stable_baselines3.common.evaluation import evaluate_policy\n",
        "from stable_baselines3.common.monitor import Monitor"
      ]
    },
    {
      "cell_type": "code",
      "execution_count": 2,
      "metadata": {
        "id": "ZNPG0g_UGCfh"
      },
      "outputs": [
        {
          "name": "stdout",
          "output_type": "stream",
          "text": [
            "_____OBSERVATION SPACE_____ \n",
            "\n",
            "Observation Space Shape (3,)\n",
            "Sample observation [ 0.10478652 -0.64077777 -5.1381054 ]\n",
            "\n",
            " _____ACTION SPACE_____ \n",
            "\n",
            "Action Space Shape (1,)\n",
            "Action Space Sample [-0.6052849]\n",
            "Action Space High [2.]\n",
            "Action Space Low [-2.]\n"
          ]
        }
      ],
      "source": [
        "env = gym.make(\"Pendulum-v1\")\n",
        "env.reset()\n",
        "print(\"_____OBSERVATION SPACE_____ \\n\")\n",
        "print(\"Observation Space Shape\", env.observation_space.shape)\n",
        "print(\"Sample observation\", env.observation_space.sample()) # Get a random observation\n",
        "print(\"\\n _____ACTION SPACE_____ \\n\")\n",
        "print(\"Action Space Shape\", env.action_space.shape)\n",
        "print(\"Action Space Sample\", env.action_space.sample()) # Take a random action\n",
        "print(\"Action Space High\", env.action_space.high) # Get the highest action value\n",
        "print(\"Action Space Low\", env.action_space.low) # Get the lowest action value"
      ]
    },
    {
      "cell_type": "markdown",
      "metadata": {
        "id": "VgrE86r5E5IK"
      },
      "source": [
        "## Create the Model\n",
        "- We are using an existing Deep RL library to set up the SAC algorithm and model, [Stable Baselines3 (SB3)](https://stable-baselines3.readthedocs.io/en/master/).\n",
        "\n",
        "- SB3 is a set of **reliable implementations of reinforcement learning algorithms in PyTorch**."
      ]
    },
    {
      "cell_type": "code",
      "execution_count": 16,
      "metadata": {},
      "outputs": [
        {
          "data": {
            "application/vnd.jupyter.widget-view+json": {
              "model_id": "72f9ee9e17954d748af3a97cd9a909d5",
              "version_major": 2,
              "version_minor": 0
            },
            "text/plain": [
              "Output()"
            ]
          },
          "metadata": {},
          "output_type": "display_data"
        },
        {
          "name": "stdout",
          "output_type": "stream",
          "text": [
            "Using cpu device\n",
            "Wrapping the env in a DummyVecEnv.\n"
          ]
        },
        {
          "name": "stdout",
          "output_type": "stream",
          "text": [
            "----------------------------------\n",
            "| rollout/           |           |\n",
            "|    ep_len_mean     | 200       |\n",
            "|    ep_rew_mean     | -1.21e+03 |\n",
            "| time/              |           |\n",
            "|    episodes        | 100       |\n",
            "|    fps             | 16384     |\n",
            "|    time_elapsed    | 1         |\n",
            "|    total_timesteps | 20000     |\n",
            "----------------------------------\n"
          ]
        },
        {
          "name": "stdout",
          "output_type": "stream",
          "text": [
            "----------------------------------\n",
            "| rollout/           |           |\n",
            "|    ep_len_mean     | 200       |\n",
            "|    ep_rew_mean     | -1.25e+03 |\n",
            "| time/              |           |\n",
            "|    episodes        | 200       |\n",
            "|    fps             | 16756     |\n",
            "|    time_elapsed    | 2         |\n",
            "|    total_timesteps | 40000     |\n",
            "----------------------------------\n"
          ]
        },
        {
          "name": "stdout",
          "output_type": "stream",
          "text": [
            "----------------------------------\n",
            "| rollout/           |           |\n",
            "|    ep_len_mean     | 200       |\n",
            "|    ep_rew_mean     | -1.29e+03 |\n",
            "| time/              |           |\n",
            "|    episodes        | 300       |\n",
            "|    fps             | 16708     |\n",
            "|    time_elapsed    | 3         |\n",
            "|    total_timesteps | 60000     |\n",
            "----------------------------------\n"
          ]
        },
        {
          "name": "stdout",
          "output_type": "stream",
          "text": [
            "----------------------------------\n",
            "| rollout/           |           |\n",
            "|    ep_len_mean     | 200       |\n",
            "|    ep_rew_mean     | -1.41e+03 |\n",
            "| time/              |           |\n",
            "|    episodes        | 400       |\n",
            "|    fps             | 10216     |\n",
            "|    time_elapsed    | 7         |\n",
            "|    total_timesteps | 80000     |\n",
            "| train/             |           |\n",
            "|    actor_loss      | 8.39      |\n",
            "|    critic_loss     | 2.14      |\n",
            "|    ent_coef        | 0.0955    |\n",
            "|    ent_coef_loss   | -3.2      |\n",
            "|    learning_rate   | 0.001     |\n",
            "|    n_updates       | 49        |\n",
            "----------------------------------\n"
          ]
        },
        {
          "name": "stdout",
          "output_type": "stream",
          "text": [
            "----------------------------------\n",
            "| rollout/           |           |\n",
            "|    ep_len_mean     | 200       |\n",
            "|    ep_rew_mean     | -1.43e+03 |\n",
            "| time/              |           |\n",
            "|    episodes        | 500       |\n",
            "|    fps             | 8315      |\n",
            "|    time_elapsed    | 12        |\n",
            "|    total_timesteps | 100000    |\n",
            "| train/             |           |\n",
            "|    actor_loss      | 10.6      |\n",
            "|    critic_loss     | 0.683     |\n",
            "|    ent_coef        | 0.091     |\n",
            "|    ent_coef_loss   | -2.7      |\n",
            "|    learning_rate   | 0.001     |\n",
            "|    n_updates       | 99        |\n",
            "----------------------------------\n"
          ]
        },
        {
          "name": "stdout",
          "output_type": "stream",
          "text": [
            "----------------------------------\n",
            "| rollout/           |           |\n",
            "|    ep_len_mean     | 200       |\n",
            "|    ep_rew_mean     | -1.73e+03 |\n",
            "| time/              |           |\n",
            "|    episodes        | 600       |\n",
            "|    fps             | 7367      |\n",
            "|    time_elapsed    | 16        |\n",
            "|    total_timesteps | 120000    |\n",
            "| train/             |           |\n",
            "|    actor_loss      | 13.9      |\n",
            "|    critic_loss     | 0.382     |\n",
            "|    ent_coef        | 0.0871    |\n",
            "|    ent_coef_loss   | -2.52     |\n",
            "|    learning_rate   | 0.001     |\n",
            "|    n_updates       | 149       |\n",
            "----------------------------------\n"
          ]
        },
        {
          "name": "stdout",
          "output_type": "stream",
          "text": [
            "----------------------------------\n",
            "| rollout/           |           |\n",
            "|    ep_len_mean     | 200       |\n",
            "|    ep_rew_mean     | -1.71e+03 |\n",
            "| time/              |           |\n",
            "|    episodes        | 700       |\n",
            "|    fps             | 6833      |\n",
            "|    time_elapsed    | 20        |\n",
            "|    total_timesteps | 140000    |\n",
            "| train/             |           |\n",
            "|    actor_loss      | 17        |\n",
            "|    critic_loss     | 0.296     |\n",
            "|    ent_coef        | 0.0833    |\n",
            "|    ent_coef_loss   | -2.39     |\n",
            "|    learning_rate   | 0.001     |\n",
            "|    n_updates       | 199       |\n",
            "----------------------------------\n"
          ]
        },
        {
          "name": "stdout",
          "output_type": "stream",
          "text": [
            "----------------------------------\n",
            "| rollout/           |           |\n",
            "|    ep_len_mean     | 200       |\n",
            "|    ep_rew_mean     | -1.72e+03 |\n",
            "| time/              |           |\n",
            "|    episodes        | 800       |\n",
            "|    fps             | 6475      |\n",
            "|    time_elapsed    | 24        |\n",
            "|    total_timesteps | 160000    |\n",
            "| train/             |           |\n",
            "|    actor_loss      | 20.4      |\n",
            "|    critic_loss     | 0.245     |\n",
            "|    ent_coef        | 0.0799    |\n",
            "|    ent_coef_loss   | -2.63     |\n",
            "|    learning_rate   | 0.001     |\n",
            "|    n_updates       | 249       |\n",
            "----------------------------------\n"
          ]
        },
        {
          "name": "stdout",
          "output_type": "stream",
          "text": [
            "----------------------------------\n",
            "| rollout/           |           |\n",
            "|    ep_len_mean     | 200       |\n",
            "|    ep_rew_mean     | -1.69e+03 |\n",
            "| time/              |           |\n",
            "|    episodes        | 900       |\n",
            "|    fps             | 6236      |\n",
            "|    time_elapsed    | 28        |\n",
            "|    total_timesteps | 180000    |\n",
            "| train/             |           |\n",
            "|    actor_loss      | 23.3      |\n",
            "|    critic_loss     | 0.209     |\n",
            "|    ent_coef        | 0.0767    |\n",
            "|    ent_coef_loss   | -2.44     |\n",
            "|    learning_rate   | 0.001     |\n",
            "|    n_updates       | 299       |\n",
            "----------------------------------\n"
          ]
        },
        {
          "name": "stdout",
          "output_type": "stream",
          "text": [
            "----------------------------------\n",
            "| rollout/           |           |\n",
            "|    ep_len_mean     | 200       |\n",
            "|    ep_rew_mean     | -1.64e+03 |\n",
            "| time/              |           |\n",
            "|    episodes        | 1000      |\n",
            "|    fps             | 6057      |\n",
            "|    time_elapsed    | 33        |\n",
            "|    total_timesteps | 200000    |\n",
            "| train/             |           |\n",
            "|    actor_loss      | 26.3      |\n",
            "|    critic_loss     | 0.139     |\n",
            "|    ent_coef        | 0.0736    |\n",
            "|    ent_coef_loss   | -2.81     |\n",
            "|    learning_rate   | 0.001     |\n",
            "|    n_updates       | 349       |\n",
            "----------------------------------\n"
          ]
        },
        {
          "name": "stdout",
          "output_type": "stream",
          "text": [
            "----------------------------------\n",
            "| rollout/           |           |\n",
            "|    ep_len_mean     | 200       |\n",
            "|    ep_rew_mean     | -1.58e+03 |\n",
            "| time/              |           |\n",
            "|    episodes        | 1100      |\n",
            "|    fps             | 5918      |\n",
            "|    time_elapsed    | 37        |\n",
            "|    total_timesteps | 220000    |\n",
            "| train/             |           |\n",
            "|    actor_loss      | 30.4      |\n",
            "|    critic_loss     | 0.153     |\n",
            "|    ent_coef        | 0.071     |\n",
            "|    ent_coef_loss   | -1.96     |\n",
            "|    learning_rate   | 0.001     |\n",
            "|    n_updates       | 399       |\n",
            "----------------------------------\n"
          ]
        },
        {
          "name": "stdout",
          "output_type": "stream",
          "text": [
            "----------------------------------\n",
            "| rollout/           |           |\n",
            "|    ep_len_mean     | 200       |\n",
            "|    ep_rew_mean     | -1.53e+03 |\n",
            "| time/              |           |\n",
            "|    episodes        | 1200      |\n",
            "|    fps             | 5806      |\n",
            "|    time_elapsed    | 41        |\n",
            "|    total_timesteps | 240000    |\n",
            "| train/             |           |\n",
            "|    actor_loss      | 34        |\n",
            "|    critic_loss     | 0.141     |\n",
            "|    ent_coef        | 0.0688    |\n",
            "|    ent_coef_loss   | -1.47     |\n",
            "|    learning_rate   | 0.001     |\n",
            "|    n_updates       | 449       |\n",
            "----------------------------------\n"
          ]
        },
        {
          "name": "stdout",
          "output_type": "stream",
          "text": [
            "----------------------------------\n",
            "| rollout/           |           |\n",
            "|    ep_len_mean     | 200       |\n",
            "|    ep_rew_mean     | -1.47e+03 |\n",
            "| time/              |           |\n",
            "|    episodes        | 1300      |\n",
            "|    fps             | 5717      |\n",
            "|    time_elapsed    | 45        |\n",
            "|    total_timesteps | 260000    |\n",
            "| train/             |           |\n",
            "|    actor_loss      | 36.9      |\n",
            "|    critic_loss     | 0.154     |\n",
            "|    ent_coef        | 0.0671    |\n",
            "|    ent_coef_loss   | -0.497    |\n",
            "|    learning_rate   | 0.001     |\n",
            "|    n_updates       | 499       |\n",
            "----------------------------------\n"
          ]
        },
        {
          "name": "stdout",
          "output_type": "stream",
          "text": [
            "----------------------------------\n",
            "| rollout/           |           |\n",
            "|    ep_len_mean     | 200       |\n",
            "|    ep_rew_mean     | -1.39e+03 |\n",
            "| time/              |           |\n",
            "|    episodes        | 1400      |\n",
            "|    fps             | 5642      |\n",
            "|    time_elapsed    | 49        |\n",
            "|    total_timesteps | 280000    |\n",
            "| train/             |           |\n",
            "|    actor_loss      | 40.1      |\n",
            "|    critic_loss     | 0.189     |\n",
            "|    ent_coef        | 0.0661    |\n",
            "|    ent_coef_loss   | -0.0778   |\n",
            "|    learning_rate   | 0.001     |\n",
            "|    n_updates       | 549       |\n",
            "----------------------------------\n"
          ]
        },
        {
          "name": "stdout",
          "output_type": "stream",
          "text": [
            "----------------------------------\n",
            "| rollout/           |           |\n",
            "|    ep_len_mean     | 200       |\n",
            "|    ep_rew_mean     | -1.36e+03 |\n",
            "| time/              |           |\n",
            "|    episodes        | 1500      |\n",
            "|    fps             | 5579      |\n",
            "|    time_elapsed    | 53        |\n",
            "|    total_timesteps | 300000    |\n",
            "| train/             |           |\n",
            "|    actor_loss      | 42        |\n",
            "|    critic_loss     | 0.132     |\n",
            "|    ent_coef        | 0.0656    |\n",
            "|    ent_coef_loss   | -0.298    |\n",
            "|    learning_rate   | 0.001     |\n",
            "|    n_updates       | 599       |\n",
            "----------------------------------\n"
          ]
        },
        {
          "name": "stdout",
          "output_type": "stream",
          "text": [
            "----------------------------------\n",
            "| rollout/           |           |\n",
            "|    ep_len_mean     | 200       |\n",
            "|    ep_rew_mean     | -1.34e+03 |\n",
            "| time/              |           |\n",
            "|    episodes        | 1600      |\n",
            "|    fps             | 5524      |\n",
            "|    time_elapsed    | 57        |\n",
            "|    total_timesteps | 320000    |\n",
            "| train/             |           |\n",
            "|    actor_loss      | 46.2      |\n",
            "|    critic_loss     | 0.163     |\n",
            "|    ent_coef        | 0.0656    |\n",
            "|    ent_coef_loss   | 0.00838   |\n",
            "|    learning_rate   | 0.001     |\n",
            "|    n_updates       | 649       |\n",
            "----------------------------------\n"
          ]
        },
        {
          "name": "stdout",
          "output_type": "stream",
          "text": [
            "----------------------------------\n",
            "| rollout/           |           |\n",
            "|    ep_len_mean     | 200       |\n",
            "|    ep_rew_mean     | -1.32e+03 |\n",
            "| time/              |           |\n",
            "|    episodes        | 1700      |\n",
            "|    fps             | 5477      |\n",
            "|    time_elapsed    | 62        |\n",
            "|    total_timesteps | 340000    |\n",
            "| train/             |           |\n",
            "|    actor_loss      | 46.9      |\n",
            "|    critic_loss     | 0.329     |\n",
            "|    ent_coef        | 0.0662    |\n",
            "|    ent_coef_loss   | 0.718     |\n",
            "|    learning_rate   | 0.001     |\n",
            "|    n_updates       | 699       |\n",
            "----------------------------------\n"
          ]
        },
        {
          "name": "stdout",
          "output_type": "stream",
          "text": [
            "----------------------------------\n",
            "| rollout/           |           |\n",
            "|    ep_len_mean     | 200       |\n",
            "|    ep_rew_mean     | -1.27e+03 |\n",
            "| time/              |           |\n",
            "|    episodes        | 1800      |\n",
            "|    fps             | 5435      |\n",
            "|    time_elapsed    | 66        |\n",
            "|    total_timesteps | 360000    |\n",
            "| train/             |           |\n",
            "|    actor_loss      | 51.9      |\n",
            "|    critic_loss     | 0.371     |\n",
            "|    ent_coef        | 0.0673    |\n",
            "|    ent_coef_loss   | 0.985     |\n",
            "|    learning_rate   | 0.001     |\n",
            "|    n_updates       | 749       |\n",
            "----------------------------------\n"
          ]
        },
        {
          "name": "stdout",
          "output_type": "stream",
          "text": [
            "----------------------------------\n",
            "| rollout/           |           |\n",
            "|    ep_len_mean     | 200       |\n",
            "|    ep_rew_mean     | -1.26e+03 |\n",
            "| time/              |           |\n",
            "|    episodes        | 1900      |\n",
            "|    fps             | 5398      |\n",
            "|    time_elapsed    | 70        |\n",
            "|    total_timesteps | 380000    |\n",
            "| train/             |           |\n",
            "|    actor_loss      | 51.8      |\n",
            "|    critic_loss     | 0.18      |\n",
            "|    ent_coef        | 0.0688    |\n",
            "|    ent_coef_loss   | 0.642     |\n",
            "|    learning_rate   | 0.001     |\n",
            "|    n_updates       | 799       |\n",
            "----------------------------------\n"
          ]
        },
        {
          "name": "stdout",
          "output_type": "stream",
          "text": [
            "---------------------------------\n",
            "| rollout/           |          |\n",
            "|    ep_len_mean     | 200      |\n",
            "|    ep_rew_mean     | -1.2e+03 |\n",
            "| time/              |          |\n",
            "|    episodes        | 2000     |\n",
            "|    fps             | 5366     |\n",
            "|    time_elapsed    | 74       |\n",
            "|    total_timesteps | 400000   |\n",
            "| train/             |          |\n",
            "|    actor_loss      | 57.1     |\n",
            "|    critic_loss     | 0.161    |\n",
            "|    ent_coef        | 0.0707   |\n",
            "|    ent_coef_loss   | 1.08     |\n",
            "|    learning_rate   | 0.001    |\n",
            "|    n_updates       | 849      |\n",
            "---------------------------------\n"
          ]
        },
        {
          "name": "stdout",
          "output_type": "stream",
          "text": [
            "----------------------------------\n",
            "| rollout/           |           |\n",
            "|    ep_len_mean     | 200       |\n",
            "|    ep_rew_mean     | -1.14e+03 |\n",
            "| time/              |           |\n",
            "|    episodes        | 2100      |\n",
            "|    fps             | 5337      |\n",
            "|    time_elapsed    | 78        |\n",
            "|    total_timesteps | 420000    |\n",
            "| train/             |           |\n",
            "|    actor_loss      | 58.3      |\n",
            "|    critic_loss     | 0.217     |\n",
            "|    ent_coef        | 0.073     |\n",
            "|    ent_coef_loss   | 1.65      |\n",
            "|    learning_rate   | 0.001     |\n",
            "|    n_updates       | 899       |\n",
            "----------------------------------\n"
          ]
        },
        {
          "name": "stdout",
          "output_type": "stream",
          "text": [
            "----------------------------------\n",
            "| rollout/           |           |\n",
            "|    ep_len_mean     | 200       |\n",
            "|    ep_rew_mean     | -1.12e+03 |\n",
            "| time/              |           |\n",
            "|    episodes        | 2200      |\n",
            "|    fps             | 5311      |\n",
            "|    time_elapsed    | 82        |\n",
            "|    total_timesteps | 440000    |\n",
            "| train/             |           |\n",
            "|    actor_loss      | 59.1      |\n",
            "|    critic_loss     | 0.162     |\n",
            "|    ent_coef        | 0.0758    |\n",
            "|    ent_coef_loss   | 1.37      |\n",
            "|    learning_rate   | 0.001     |\n",
            "|    n_updates       | 949       |\n",
            "----------------------------------\n"
          ]
        },
        {
          "name": "stdout",
          "output_type": "stream",
          "text": [
            "----------------------------------\n",
            "| rollout/           |           |\n",
            "|    ep_len_mean     | 200       |\n",
            "|    ep_rew_mean     | -1.06e+03 |\n",
            "| time/              |           |\n",
            "|    episodes        | 2300      |\n",
            "|    fps             | 5287      |\n",
            "|    time_elapsed    | 86        |\n",
            "|    total_timesteps | 460000    |\n",
            "| train/             |           |\n",
            "|    actor_loss      | 61.7      |\n",
            "|    critic_loss     | 0.235     |\n",
            "|    ent_coef        | 0.0789    |\n",
            "|    ent_coef_loss   | 1.32      |\n",
            "|    learning_rate   | 0.001     |\n",
            "|    n_updates       | 999       |\n",
            "----------------------------------\n"
          ]
        },
        {
          "name": "stdout",
          "output_type": "stream",
          "text": [
            "----------------------------------\n",
            "| rollout/           |           |\n",
            "|    ep_len_mean     | 200       |\n",
            "|    ep_rew_mean     | -1.04e+03 |\n",
            "| time/              |           |\n",
            "|    episodes        | 2400      |\n",
            "|    fps             | 5259      |\n",
            "|    time_elapsed    | 91        |\n",
            "|    total_timesteps | 480000    |\n",
            "| train/             |           |\n",
            "|    actor_loss      | 66        |\n",
            "|    critic_loss     | 0.274     |\n",
            "|    ent_coef        | 0.0824    |\n",
            "|    ent_coef_loss   | 1.44      |\n",
            "|    learning_rate   | 0.001     |\n",
            "|    n_updates       | 1049      |\n",
            "----------------------------------\n"
          ]
        },
        {
          "name": "stdout",
          "output_type": "stream",
          "text": [
            "---------------------------------\n",
            "| rollout/           |          |\n",
            "|    ep_len_mean     | 200      |\n",
            "|    ep_rew_mean     | -975     |\n",
            "| time/              |          |\n",
            "|    episodes        | 2500     |\n",
            "|    fps             | 5239     |\n",
            "|    time_elapsed    | 95       |\n",
            "|    total_timesteps | 500000   |\n",
            "| train/             |          |\n",
            "|    actor_loss      | 66.7     |\n",
            "|    critic_loss     | 0.352    |\n",
            "|    ent_coef        | 0.0862   |\n",
            "|    ent_coef_loss   | 1.2      |\n",
            "|    learning_rate   | 0.001    |\n",
            "|    n_updates       | 1099     |\n",
            "---------------------------------\n"
          ]
        },
        {
          "name": "stdout",
          "output_type": "stream",
          "text": [
            "---------------------------------\n",
            "| rollout/           |          |\n",
            "|    ep_len_mean     | 200      |\n",
            "|    ep_rew_mean     | -934     |\n",
            "| time/              |          |\n",
            "|    episodes        | 2600     |\n",
            "|    fps             | 5221     |\n",
            "|    time_elapsed    | 99       |\n",
            "|    total_timesteps | 520000   |\n",
            "| train/             |          |\n",
            "|    actor_loss      | 68.1     |\n",
            "|    critic_loss     | 0.184    |\n",
            "|    ent_coef        | 0.0904   |\n",
            "|    ent_coef_loss   | 1.57     |\n",
            "|    learning_rate   | 0.001    |\n",
            "|    n_updates       | 1149     |\n",
            "---------------------------------\n"
          ]
        },
        {
          "name": "stdout",
          "output_type": "stream",
          "text": [
            "---------------------------------\n",
            "| rollout/           |          |\n",
            "|    ep_len_mean     | 200      |\n",
            "|    ep_rew_mean     | -859     |\n",
            "| time/              |          |\n",
            "|    episodes        | 2700     |\n",
            "|    fps             | 5204     |\n",
            "|    time_elapsed    | 103      |\n",
            "|    total_timesteps | 540000   |\n",
            "| train/             |          |\n",
            "|    actor_loss      | 69.1     |\n",
            "|    critic_loss     | 0.356    |\n",
            "|    ent_coef        | 0.0947   |\n",
            "|    ent_coef_loss   | 1.25     |\n",
            "|    learning_rate   | 0.001    |\n",
            "|    n_updates       | 1199     |\n",
            "---------------------------------\n"
          ]
        },
        {
          "name": "stdout",
          "output_type": "stream",
          "text": [
            "---------------------------------\n",
            "| rollout/           |          |\n",
            "|    ep_len_mean     | 200      |\n",
            "|    ep_rew_mean     | -796     |\n",
            "| time/              |          |\n",
            "|    episodes        | 2800     |\n",
            "|    fps             | 5189     |\n",
            "|    time_elapsed    | 107      |\n",
            "|    total_timesteps | 560000   |\n",
            "| train/             |          |\n",
            "|    actor_loss      | 67.2     |\n",
            "|    critic_loss     | 0.336    |\n",
            "|    ent_coef        | 0.0994   |\n",
            "|    ent_coef_loss   | 0.905    |\n",
            "|    learning_rate   | 0.001    |\n",
            "|    n_updates       | 1249     |\n",
            "---------------------------------\n"
          ]
        },
        {
          "name": "stdout",
          "output_type": "stream",
          "text": [
            "---------------------------------\n",
            "| rollout/           |          |\n",
            "|    ep_len_mean     | 200      |\n",
            "|    ep_rew_mean     | -689     |\n",
            "| time/              |          |\n",
            "|    episodes        | 2900     |\n",
            "|    fps             | 5175     |\n",
            "|    time_elapsed    | 112      |\n",
            "|    total_timesteps | 580000   |\n",
            "| train/             |          |\n",
            "|    actor_loss      | 70.6     |\n",
            "|    critic_loss     | 0.342    |\n",
            "|    ent_coef        | 0.104    |\n",
            "|    ent_coef_loss   | 1.62     |\n",
            "|    learning_rate   | 0.001    |\n",
            "|    n_updates       | 1299     |\n",
            "---------------------------------\n"
          ]
        },
        {
          "name": "stdout",
          "output_type": "stream",
          "text": [
            "---------------------------------\n",
            "| rollout/           |          |\n",
            "|    ep_len_mean     | 200      |\n",
            "|    ep_rew_mean     | -526     |\n",
            "| time/              |          |\n",
            "|    episodes        | 3000     |\n",
            "|    fps             | 5162     |\n",
            "|    time_elapsed    | 116      |\n",
            "|    total_timesteps | 600000   |\n",
            "| train/             |          |\n",
            "|    actor_loss      | 73.9     |\n",
            "|    critic_loss     | 0.42     |\n",
            "|    ent_coef        | 0.109    |\n",
            "|    ent_coef_loss   | 1.27     |\n",
            "|    learning_rate   | 0.001    |\n",
            "|    n_updates       | 1349     |\n",
            "---------------------------------\n"
          ]
        },
        {
          "name": "stdout",
          "output_type": "stream",
          "text": [
            "---------------------------------\n",
            "| rollout/           |          |\n",
            "|    ep_len_mean     | 200      |\n",
            "|    ep_rew_mean     | -562     |\n",
            "| time/              |          |\n",
            "|    episodes        | 3100     |\n",
            "|    fps             | 5151     |\n",
            "|    time_elapsed    | 120      |\n",
            "|    total_timesteps | 620000   |\n",
            "| train/             |          |\n",
            "|    actor_loss      | 73.9     |\n",
            "|    critic_loss     | 0.239    |\n",
            "|    ent_coef        | 0.114    |\n",
            "|    ent_coef_loss   | 1.01     |\n",
            "|    learning_rate   | 0.001    |\n",
            "|    n_updates       | 1399     |\n",
            "---------------------------------\n"
          ]
        },
        {
          "name": "stdout",
          "output_type": "stream",
          "text": [
            "---------------------------------\n",
            "| rollout/           |          |\n",
            "|    ep_len_mean     | 200      |\n",
            "|    ep_rew_mean     | -393     |\n",
            "| time/              |          |\n",
            "|    episodes        | 3200     |\n",
            "|    fps             | 5139     |\n",
            "|    time_elapsed    | 124      |\n",
            "|    total_timesteps | 640000   |\n",
            "| train/             |          |\n",
            "|    actor_loss      | 76.4     |\n",
            "|    critic_loss     | 0.233    |\n",
            "|    ent_coef        | 0.119    |\n",
            "|    ent_coef_loss   | 1.12     |\n",
            "|    learning_rate   | 0.001    |\n",
            "|    n_updates       | 1449     |\n",
            "---------------------------------\n"
          ]
        },
        {
          "name": "stdout",
          "output_type": "stream",
          "text": [
            "---------------------------------\n",
            "| rollout/           |          |\n",
            "|    ep_len_mean     | 200      |\n",
            "|    ep_rew_mean     | -355     |\n",
            "| time/              |          |\n",
            "|    episodes        | 3300     |\n",
            "|    fps             | 5128     |\n",
            "|    time_elapsed    | 128      |\n",
            "|    total_timesteps | 660000   |\n",
            "| train/             |          |\n",
            "|    actor_loss      | 75.8     |\n",
            "|    critic_loss     | 0.238    |\n",
            "|    ent_coef        | 0.124    |\n",
            "|    ent_coef_loss   | 1.33     |\n",
            "|    learning_rate   | 0.001    |\n",
            "|    n_updates       | 1499     |\n",
            "---------------------------------\n"
          ]
        },
        {
          "name": "stdout",
          "output_type": "stream",
          "text": [
            "---------------------------------\n",
            "| rollout/           |          |\n",
            "|    ep_len_mean     | 200      |\n",
            "|    ep_rew_mean     | -262     |\n",
            "| time/              |          |\n",
            "|    episodes        | 3400     |\n",
            "|    fps             | 5118     |\n",
            "|    time_elapsed    | 132      |\n",
            "|    total_timesteps | 680000   |\n",
            "| train/             |          |\n",
            "|    actor_loss      | 72.3     |\n",
            "|    critic_loss     | 0.622    |\n",
            "|    ent_coef        | 0.129    |\n",
            "|    ent_coef_loss   | 1.12     |\n",
            "|    learning_rate   | 0.001    |\n",
            "|    n_updates       | 1549     |\n",
            "---------------------------------\n"
          ]
        },
        {
          "name": "stdout",
          "output_type": "stream",
          "text": [
            "---------------------------------\n",
            "| rollout/           |          |\n",
            "|    ep_len_mean     | 200      |\n",
            "|    ep_rew_mean     | -226     |\n",
            "| time/              |          |\n",
            "|    episodes        | 3500     |\n",
            "|    fps             | 5109     |\n",
            "|    time_elapsed    | 136      |\n",
            "|    total_timesteps | 700000   |\n",
            "| train/             |          |\n",
            "|    actor_loss      | 75.8     |\n",
            "|    critic_loss     | 0.318    |\n",
            "|    ent_coef        | 0.135    |\n",
            "|    ent_coef_loss   | 1.15     |\n",
            "|    learning_rate   | 0.001    |\n",
            "|    n_updates       | 1599     |\n",
            "---------------------------------\n"
          ]
        },
        {
          "name": "stdout",
          "output_type": "stream",
          "text": [
            "---------------------------------\n",
            "| rollout/           |          |\n",
            "|    ep_len_mean     | 200      |\n",
            "|    ep_rew_mean     | -220     |\n",
            "| time/              |          |\n",
            "|    episodes        | 3600     |\n",
            "|    fps             | 5101     |\n",
            "|    time_elapsed    | 141      |\n",
            "|    total_timesteps | 720000   |\n",
            "| train/             |          |\n",
            "|    actor_loss      | 78.3     |\n",
            "|    critic_loss     | 0.556    |\n",
            "|    ent_coef        | 0.14     |\n",
            "|    ent_coef_loss   | 0.624    |\n",
            "|    learning_rate   | 0.001    |\n",
            "|    n_updates       | 1649     |\n",
            "---------------------------------\n"
          ]
        },
        {
          "name": "stdout",
          "output_type": "stream",
          "text": [
            "---------------------------------\n",
            "| rollout/           |          |\n",
            "|    ep_len_mean     | 200      |\n",
            "|    ep_rew_mean     | -176     |\n",
            "| time/              |          |\n",
            "|    episodes        | 3700     |\n",
            "|    fps             | 5092     |\n",
            "|    time_elapsed    | 145      |\n",
            "|    total_timesteps | 740000   |\n",
            "| train/             |          |\n",
            "|    actor_loss      | 76.3     |\n",
            "|    critic_loss     | 0.571    |\n",
            "|    ent_coef        | 0.145    |\n",
            "|    ent_coef_loss   | 1.04     |\n",
            "|    learning_rate   | 0.001    |\n",
            "|    n_updates       | 1699     |\n",
            "---------------------------------\n"
          ]
        },
        {
          "name": "stdout",
          "output_type": "stream",
          "text": [
            "---------------------------------\n",
            "| rollout/           |          |\n",
            "|    ep_len_mean     | 200      |\n",
            "|    ep_rew_mean     | -194     |\n",
            "| time/              |          |\n",
            "|    episodes        | 3800     |\n",
            "|    fps             | 5084     |\n",
            "|    time_elapsed    | 149      |\n",
            "|    total_timesteps | 760000   |\n",
            "| train/             |          |\n",
            "|    actor_loss      | 75.5     |\n",
            "|    critic_loss     | 0.365    |\n",
            "|    ent_coef        | 0.149    |\n",
            "|    ent_coef_loss   | 0.998    |\n",
            "|    learning_rate   | 0.001    |\n",
            "|    n_updates       | 1749     |\n",
            "---------------------------------\n"
          ]
        },
        {
          "name": "stdout",
          "output_type": "stream",
          "text": [
            "---------------------------------\n",
            "| rollout/           |          |\n",
            "|    ep_len_mean     | 200      |\n",
            "|    ep_rew_mean     | -178     |\n",
            "| time/              |          |\n",
            "|    episodes        | 3900     |\n",
            "|    fps             | 5077     |\n",
            "|    time_elapsed    | 153      |\n",
            "|    total_timesteps | 780000   |\n",
            "| train/             |          |\n",
            "|    actor_loss      | 71.7     |\n",
            "|    critic_loss     | 0.535    |\n",
            "|    ent_coef        | 0.154    |\n",
            "|    ent_coef_loss   | 0.704    |\n",
            "|    learning_rate   | 0.001    |\n",
            "|    n_updates       | 1799     |\n",
            "---------------------------------\n"
          ]
        },
        {
          "name": "stdout",
          "output_type": "stream",
          "text": [
            "---------------------------------\n",
            "| rollout/           |          |\n",
            "|    ep_len_mean     | 200      |\n",
            "|    ep_rew_mean     | -201     |\n",
            "| time/              |          |\n",
            "|    episodes        | 4000     |\n",
            "|    fps             | 5070     |\n",
            "|    time_elapsed    | 157      |\n",
            "|    total_timesteps | 800000   |\n",
            "| train/             |          |\n",
            "|    actor_loss      | 79.7     |\n",
            "|    critic_loss     | 0.43     |\n",
            "|    ent_coef        | 0.158    |\n",
            "|    ent_coef_loss   | 0.605    |\n",
            "|    learning_rate   | 0.001    |\n",
            "|    n_updates       | 1849     |\n",
            "---------------------------------\n"
          ]
        },
        {
          "name": "stdout",
          "output_type": "stream",
          "text": [
            "---------------------------------\n",
            "| rollout/           |          |\n",
            "|    ep_len_mean     | 200      |\n",
            "|    ep_rew_mean     | -186     |\n",
            "| time/              |          |\n",
            "|    episodes        | 4100     |\n",
            "|    fps             | 5064     |\n",
            "|    time_elapsed    | 161      |\n",
            "|    total_timesteps | 820000   |\n",
            "| train/             |          |\n",
            "|    actor_loss      | 76.7     |\n",
            "|    critic_loss     | 0.593    |\n",
            "|    ent_coef        | 0.162    |\n",
            "|    ent_coef_loss   | 0.418    |\n",
            "|    learning_rate   | 0.001    |\n",
            "|    n_updates       | 1899     |\n",
            "---------------------------------\n"
          ]
        },
        {
          "name": "stdout",
          "output_type": "stream",
          "text": [
            "---------------------------------\n",
            "| rollout/           |          |\n",
            "|    ep_len_mean     | 200      |\n",
            "|    ep_rew_mean     | -183     |\n",
            "| time/              |          |\n",
            "|    episodes        | 4200     |\n",
            "|    fps             | 5058     |\n",
            "|    time_elapsed    | 166      |\n",
            "|    total_timesteps | 840000   |\n",
            "| train/             |          |\n",
            "|    actor_loss      | 75.9     |\n",
            "|    critic_loss     | 0.763    |\n",
            "|    ent_coef        | 0.166    |\n",
            "|    ent_coef_loss   | 0.335    |\n",
            "|    learning_rate   | 0.001    |\n",
            "|    n_updates       | 1949     |\n",
            "---------------------------------\n"
          ]
        },
        {
          "name": "stdout",
          "output_type": "stream",
          "text": [
            "---------------------------------\n",
            "| rollout/           |          |\n",
            "|    ep_len_mean     | 200      |\n",
            "|    ep_rew_mean     | -174     |\n",
            "| time/              |          |\n",
            "|    episodes        | 4300     |\n",
            "|    fps             | 5052     |\n",
            "|    time_elapsed    | 170      |\n",
            "|    total_timesteps | 860000   |\n",
            "| train/             |          |\n",
            "|    actor_loss      | 74.7     |\n",
            "|    critic_loss     | 0.784    |\n",
            "|    ent_coef        | 0.169    |\n",
            "|    ent_coef_loss   | 0.559    |\n",
            "|    learning_rate   | 0.001    |\n",
            "|    n_updates       | 1999     |\n",
            "---------------------------------\n"
          ]
        },
        {
          "name": "stdout",
          "output_type": "stream",
          "text": [
            "---------------------------------\n",
            "| rollout/           |          |\n",
            "|    ep_len_mean     | 200      |\n",
            "|    ep_rew_mean     | -161     |\n",
            "| time/              |          |\n",
            "|    episodes        | 4400     |\n",
            "|    fps             | 5047     |\n",
            "|    time_elapsed    | 174      |\n",
            "|    total_timesteps | 880000   |\n",
            "| train/             |          |\n",
            "|    actor_loss      | 74.6     |\n",
            "|    critic_loss     | 0.625    |\n",
            "|    ent_coef        | 0.171    |\n",
            "|    ent_coef_loss   | -0.0576  |\n",
            "|    learning_rate   | 0.001    |\n",
            "|    n_updates       | 2049     |\n",
            "---------------------------------\n"
          ]
        },
        {
          "name": "stdout",
          "output_type": "stream",
          "text": [
            "---------------------------------\n",
            "| rollout/           |          |\n",
            "|    ep_len_mean     | 200      |\n",
            "|    ep_rew_mean     | -184     |\n",
            "| time/              |          |\n",
            "|    episodes        | 4500     |\n",
            "|    fps             | 5042     |\n",
            "|    time_elapsed    | 178      |\n",
            "|    total_timesteps | 900000   |\n",
            "| train/             |          |\n",
            "|    actor_loss      | 76.6     |\n",
            "|    critic_loss     | 1.09     |\n",
            "|    ent_coef        | 0.173    |\n",
            "|    ent_coef_loss   | 0.352    |\n",
            "|    learning_rate   | 0.001    |\n",
            "|    n_updates       | 2099     |\n",
            "---------------------------------\n"
          ]
        },
        {
          "name": "stdout",
          "output_type": "stream",
          "text": [
            "---------------------------------\n",
            "| rollout/           |          |\n",
            "|    ep_len_mean     | 200      |\n",
            "|    ep_rew_mean     | -150     |\n",
            "| time/              |          |\n",
            "|    episodes        | 4600     |\n",
            "|    fps             | 5037     |\n",
            "|    time_elapsed    | 182      |\n",
            "|    total_timesteps | 920000   |\n",
            "| train/             |          |\n",
            "|    actor_loss      | 76.4     |\n",
            "|    critic_loss     | 1.11     |\n",
            "|    ent_coef        | 0.175    |\n",
            "|    ent_coef_loss   | -0.159   |\n",
            "|    learning_rate   | 0.001    |\n",
            "|    n_updates       | 2149     |\n",
            "---------------------------------\n"
          ]
        },
        {
          "name": "stdout",
          "output_type": "stream",
          "text": [
            "---------------------------------\n",
            "| rollout/           |          |\n",
            "|    ep_len_mean     | 200      |\n",
            "|    ep_rew_mean     | -169     |\n",
            "| time/              |          |\n",
            "|    episodes        | 4700     |\n",
            "|    fps             | 5031     |\n",
            "|    time_elapsed    | 186      |\n",
            "|    total_timesteps | 940000   |\n",
            "| train/             |          |\n",
            "|    actor_loss      | 74.4     |\n",
            "|    critic_loss     | 0.642    |\n",
            "|    ent_coef        | 0.176    |\n",
            "|    ent_coef_loss   | -0.0946  |\n",
            "|    learning_rate   | 0.001    |\n",
            "|    n_updates       | 2199     |\n",
            "---------------------------------\n"
          ]
        },
        {
          "name": "stdout",
          "output_type": "stream",
          "text": [
            "---------------------------------\n",
            "| rollout/           |          |\n",
            "|    ep_len_mean     | 200      |\n",
            "|    ep_rew_mean     | -154     |\n",
            "| time/              |          |\n",
            "|    episodes        | 4800     |\n",
            "|    fps             | 5027     |\n",
            "|    time_elapsed    | 190      |\n",
            "|    total_timesteps | 960000   |\n",
            "| train/             |          |\n",
            "|    actor_loss      | 74.5     |\n",
            "|    critic_loss     | 0.794    |\n",
            "|    ent_coef        | 0.177    |\n",
            "|    ent_coef_loss   | 0.175    |\n",
            "|    learning_rate   | 0.001    |\n",
            "|    n_updates       | 2249     |\n",
            "---------------------------------\n"
          ]
        },
        {
          "name": "stdout",
          "output_type": "stream",
          "text": [
            "---------------------------------\n",
            "| rollout/           |          |\n",
            "|    ep_len_mean     | 200      |\n",
            "|    ep_rew_mean     | -174     |\n",
            "| time/              |          |\n",
            "|    episodes        | 4900     |\n",
            "|    fps             | 5022     |\n",
            "|    time_elapsed    | 195      |\n",
            "|    total_timesteps | 980000   |\n",
            "| train/             |          |\n",
            "|    actor_loss      | 70.7     |\n",
            "|    critic_loss     | 0.955    |\n",
            "|    ent_coef        | 0.177    |\n",
            "|    ent_coef_loss   | -0.0476  |\n",
            "|    learning_rate   | 0.001    |\n",
            "|    n_updates       | 2299     |\n",
            "---------------------------------\n"
          ]
        },
        {
          "name": "stdout",
          "output_type": "stream",
          "text": [
            "---------------------------------\n",
            "| rollout/           |          |\n",
            "|    ep_len_mean     | 200      |\n",
            "|    ep_rew_mean     | -168     |\n",
            "| time/              |          |\n",
            "|    episodes        | 5000     |\n",
            "|    fps             | 5018     |\n",
            "|    time_elapsed    | 199      |\n",
            "|    total_timesteps | 1000000  |\n",
            "| train/             |          |\n",
            "|    actor_loss      | 66.1     |\n",
            "|    critic_loss     | 1.01     |\n",
            "|    ent_coef        | 0.177    |\n",
            "|    ent_coef_loss   | -0.32    |\n",
            "|    learning_rate   | 0.001    |\n",
            "|    n_updates       | 2349     |\n",
            "---------------------------------\n"
          ]
        },
        {
          "data": {
            "text/html": [
              "<pre style=\"white-space:pre;overflow-x:auto;line-height:normal;font-family:Menlo,'DejaVu Sans Mono',consolas,'Courier New',monospace\"></pre>\n"
            ],
            "text/plain": []
          },
          "metadata": {},
          "output_type": "display_data"
        },
        {
          "data": {
            "text/html": [
              "<pre style=\"white-space:pre;overflow-x:auto;line-height:normal;font-family:Menlo,'DejaVu Sans Mono',consolas,'Courier New',monospace\">\n",
              "</pre>\n"
            ],
            "text/plain": [
              "\n"
            ]
          },
          "metadata": {},
          "output_type": "display_data"
        }
      ],
      "source": [
        "log_dir = \"/tmp/gym/\"\n",
        "os.makedirs(log_dir, exist_ok=True)\n",
        "env = Monitor(env, log_dir)\n",
        "\n",
        "sac_model = SAC(\n",
        "    policy='MlpPolicy',\n",
        "    env=env,\n",
        "    learning_rate=1e-3,\n",
        "    buffer_size=2000000,\n",
        "    learning_starts=60000,\n",
        "    gamma=0.98,\n",
        "    tau=0.01,\n",
        "    ent_coef='auto_0.1',\n",
        "    train_freq=(2,'episode'),\n",
        "    verbose=1,\n",
        "    seed=42)\n",
        "\n",
        "sac_model.learn(total_timesteps=1e6, log_interval=100, progress_bar=True)\n",
        "# Save the model\n",
        "model_name = \"sac-Pendulum-v1-ex3\"\n",
        "sac_model.save(model_name)"
      ]
    },
    {
      "cell_type": "code",
      "execution_count": 17,
      "metadata": {
        "id": "xsaO7Hd-ydFk"
      },
      "outputs": [
        {
          "data": {
            "image/png": "[encoded data removed]",
            "text/plain": [
              "<Figure size 640x480 with 1 Axes>"
            ]
          },
          "metadata": {},
          "output_type": "display_data"
        }
      ],
      "source": [
        "episode_rew_ddpg = env.get_episode_rewards()\n",
        "episode_rew_ddpg_ma = (np.convolve(episode_rew_ddpg, np.ones(100), \"valid\") / 100)\n",
        "plt.plot(np.arange(100, len(episode_rew_ddpg)+1), episode_rew_ddpg_ma)\n",
        "plt.ylabel('Average Reward for the past 100 episodes')\n",
        "plt.xlabel('Episode #')\n",
        "plt.show()"
      ]
    },
    {
      "cell_type": "code",
      "execution_count": 18,
      "metadata": {
        "id": "sIDZFa8sfMyu"
      },
      "outputs": [
        {
          "data": {
            "image/png": "[encoded data removed]",
            "text/plain": [
              "<Figure size 640x480 with 1 Axes>"
            ]
          },
          "metadata": {},
          "output_type": "display_data"
        }
      ],
      "source": [
        "episode_len_ddpg = env.get_episode_lengths()\n",
        "episode_len_ddpg_ma = (np.convolve(episode_len_ddpg, np.ones(100), \"valid\") / 100)\n",
        "plt.plot(np.arange(100, len(episode_len_ddpg)+1), episode_len_ddpg_ma)\n",
        "plt.ylabel('Average Episode Length for the past 100 episodes')\n",
        "plt.xlabel('Episode #')\n",
        "plt.show()"
      ]
    },
    {
      "cell_type": "code",
      "execution_count": 19,
      "metadata": {
        "id": "zpz8kHlt_a_m"
      },
      "outputs": [
        {
          "name": "stdout",
          "output_type": "stream",
          "text": [
            "Training steps: 100,000 || mean_reward=-138.15 +/- 88.1610960815993\n"
          ]
        }
      ],
      "source": [
        "# Evaluate the final agent\n",
        "eval_env = Monitor(gym.make(\"Pendulum-v1\"))\n",
        "mean_reward, std_reward = evaluate_policy(sac_model, eval_env, n_eval_episodes=10, deterministic=True)\n",
        "print(f\"Training steps: 100,000 || mean_reward={mean_reward:.2f} +/- {std_reward}\")"
      ]
    },
    {
      "cell_type": "code",
      "execution_count": 20,
      "metadata": {
        "id": "RBHaZb_0-vbr"
      },
      "outputs": [],
      "source": [
        "import glob\n",
        "import io\n",
        "import base64\n",
        "from IPython import display\n",
        "from IPython.display import HTML\n",
        "from gym.wrappers.monitoring import video_recorder\n",
        "import torch\n",
        "\n",
        "def show_video(video_name):\n",
        "    mp4list = glob.glob('video/ex3/*.mp4')\n",
        "    if len(mp4list) > 0:\n",
        "        mp4 = 'video/ex3/{}.mp4'.format(video_name)\n",
        "        video = io.open(mp4, 'r+b').read()\n",
        "        encoded = base64.b64encode(video)\n",
        "        display.display(HTML(data='''<video alt=\"test\" autoplay\n",
        "                loop controls style=\"height: 400px;\">\n",
        "                <source src=\"data:video/mp4;base64,{0}\" type=\"video/mp4\" />\n",
        "             </video>'''.format(encoded.decode('ascii'))))\n",
        "    else:\n",
        "        print(\"Could not find video\")\n",
        "\n",
        "def show_video_of_model(agent, env_name, video_name):\n",
        "    env = gym.make(env_name, render_mode='rgb_array')\n",
        "    vid = video_recorder.VideoRecorder(env, path=\"video/ex3/{}.mp4\".format(video_name))\n",
        "    state, _ = env.reset()\n",
        "    done, truncated = False, False\n",
        "    reward_list = []\n",
        "    while not done and not truncated:\n",
        "        frame = env.render()\n",
        "\n",
        "        vid.capture_frame()\n",
        "        # import pdb; pdb.set_trace()\n",
        "        action = agent.predict(state)\n",
        "\n",
        "        state, reward, done, truncated, _ = env.step(action[0])\n",
        "        reward_list.append(reward)\n",
        "    vid.close()\n",
        "    env.close()\n",
        "    print(np.array(reward_list).sum())"
      ]
    },
    {
      "cell_type": "code",
      "execution_count": 21,
      "metadata": {
        "id": "657Bx1Cur5bg"
      },
      "outputs": [
        {
          "name": "stdout",
          "output_type": "stream",
          "text": [
            "mkdir: video: File exists\n",
            "mkdir: video/ex3: File exists\n"
          ]
        }
      ],
      "source": [
        "!mkdir video\n",
        "!mkdir video/ex3"
      ]
    },
    {
      "cell_type": "code",
      "execution_count": 22,
      "metadata": {
        "id": "ELLwGIQLscQa"
      },
      "outputs": [],
      "source": [
        "saved_model = SAC.load(\"./sac-Pendulum-v1-ex3.zip\")"
      ]
    },
    {
      "cell_type": "code",
      "execution_count": 23,
      "metadata": {
        "id": "yeGcDhKcudqY"
      },
      "outputs": [
        {
          "name": "stderr",
          "output_type": "stream",
          "text": [
            "/Users/keithwang/miniforge3_arm64/lib/python3.10/site-packages/gym/wrappers/monitoring/video_recorder.py:101: DeprecationWarning: \u001b[33mWARN: <class 'gym.wrappers.monitoring.video_recorder.VideoRecorder'> is marked as deprecated and will be removed in the future.\u001b[0m\n",
            "  logger.deprecation(\n"
          ]
        },
        {
          "name": "stdout",
          "output_type": "stream",
          "text": [
            "-249.93476688341673\n"
          ]
        },
        {
          "data": {
            "text/html": [
              "<video alt=\"test\" autoplay\n",
              "                loop controls style=\"height: 400px;\">\n",
              "                <source src=\"data:video/mp4;base64,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\" type=\"video/mp4\" />\n",
              "             </video>"
            ],
            "text/plain": [
              "<IPython.core.display.HTML object>"
            ]
          },
          "metadata": {},
          "output_type": "display_data"
        }
      ],
      "source": [
        "show_video_of_model(saved_model, \"Pendulum-v1\", 'SAC')\n",
        "show_video('SAC')"
      ]
    }
  ],
  "metadata": {
    "accelerator": "GPU",
    "colab": {
      "gpuType": "T4",
      "provenance": []
    },
    "kernelspec": {
      "display_name": "Python 3",
      "name": "python3"
    },
    "language_info": {
      "codemirror_mode": {
        "name": "ipython",
        "version": 3
      },
      "file_extension": ".py",
      "mimetype": "text/x-python",
      "name": "python",
      "nbconvert_exporter": "python",
      "pygments_lexer": "ipython3",
      "version": "3.10.10"
    },
    "vscode": {
      "interpreter": {
        "hash": "ed7f8024e43d3b8f5ca3c5e1a8151ab4d136b3ecee1e3fd59e0766ccc55e1b10"
      }
    }
  },
  "nbformat": 4,
  "nbformat_minor": 0
}
